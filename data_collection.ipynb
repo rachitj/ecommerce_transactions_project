{
 "cells": [
  {
   "cell_type": "markdown",
   "metadata": {},
   "source": [
    "## Import Libraries"
   ]
  },
  {
   "cell_type": "code",
   "execution_count": 1,
   "metadata": {},
   "outputs": [],
   "source": [
    "# Import Libraries\n",
    "import requests\n",
    "import pandas as pd\n",
    "import json\n",
    "from urllib.request import urlopen\n",
    "\n",
    "pd.set_option(\"max_rows\",100)"
   ]
  },
  {
   "cell_type": "markdown",
   "metadata": {},
   "source": [
    "## Get Orders data from json file"
   ]
  },
  {
   "cell_type": "code",
   "execution_count": 2,
   "metadata": {},
   "outputs": [],
   "source": [
    "# Loading as python object\n",
    "with open('orders.json') as f:\n",
    "    data_orders = json.load(f)"
   ]
  },
  {
   "cell_type": "code",
   "execution_count": 3,
   "metadata": {},
   "outputs": [
    {
     "data": {
      "text/plain": [
       "list"
      ]
     },
     "execution_count": 3,
     "metadata": {},
     "output_type": "execute_result"
    }
   ],
   "source": [
    "type(data_orders)"
   ]
  },
  {
   "cell_type": "code",
   "execution_count": 4,
   "metadata": {},
   "outputs": [
    {
     "data": {
      "text/plain": [
       "{'id': 8369263756632563,\n",
       " 'customer': {'id': 47178,\n",
       "  'name': 'William Doe',\n",
       "  'email': 'william.doe@gmail.com'},\n",
       " 'total_price': 79.39,\n",
       " 'created_at': '2020-03-07T14:31:11Z',\n",
       " 'line_items': [{'id': 610448,\n",
       "   'product_id': 632910392,\n",
       "   'product_sku': 'PPLEPUNCH20-05',\n",
       "   'product_name': 'Purple Punch 2.0 Dried Flower',\n",
       "   'price': 29.4},\n",
       "  {'id': 997208,\n",
       "   'product_id': 278266679,\n",
       "   'product_sku': 'GPSTASH-01',\n",
       "   'product_name': \"Grandpa's Stash Dried Flower\",\n",
       "   'price': 49.99}]}"
      ]
     },
     "execution_count": 4,
     "metadata": {},
     "output_type": "execute_result"
    }
   ],
   "source": [
    "data_orders[0]"
   ]
  },
  {
   "cell_type": "code",
   "execution_count": 97,
   "metadata": {},
   "outputs": [],
   "source": [
    "df_orders = pd.DataFrame(columns=['id','cust_id','total_price','created_at', 'line_item_id'])\n",
    "\n",
    "for orders in data_orders:\n",
    "    id = orders['id']\n",
    "    cust_id = orders['customer']['id']\n",
    "    total_price = orders['total_price']\n",
    "    created_at = orders['created_at']\n",
    "    for line_item in orders['line_items'] :\n",
    "        line_item_id = line_item['id']\n",
    "        #print(line_item_id,id,cust_id,total_price,created_at)\n",
    "        orders = {'id':id,'cust_id':cust_id,'total_price':total_price,'created_at':created_at,'line_item_id':line_item_id}\n",
    "        df_orders = df_orders.append(orders,ignore_index=True)\n",
    "    #print(id,cust_id,total_price,created_at)"
   ]
  },
  {
   "cell_type": "code",
   "execution_count": 98,
   "metadata": {},
   "outputs": [
    {
     "data": {
      "text/html": [
       "<div>\n",
       "<style scoped>\n",
       "    .dataframe tbody tr th:only-of-type {\n",
       "        vertical-align: middle;\n",
       "    }\n",
       "\n",
       "    .dataframe tbody tr th {\n",
       "        vertical-align: top;\n",
       "    }\n",
       "\n",
       "    .dataframe thead th {\n",
       "        text-align: right;\n",
       "    }\n",
       "</style>\n",
       "<table border=\"1\" class=\"dataframe\">\n",
       "  <thead>\n",
       "    <tr style=\"text-align: right;\">\n",
       "      <th></th>\n",
       "      <th>id</th>\n",
       "      <th>cust_id</th>\n",
       "      <th>total_price</th>\n",
       "      <th>created_at</th>\n",
       "      <th>line_item_id</th>\n",
       "    </tr>\n",
       "  </thead>\n",
       "  <tbody>\n",
       "    <tr>\n",
       "      <th>32</th>\n",
       "      <td>1104846479586545</td>\n",
       "      <td>94720</td>\n",
       "      <td>86.98</td>\n",
       "      <td>2020-02-22T21:44:05Z</td>\n",
       "      <td>759658</td>\n",
       "    </tr>\n",
       "    <tr>\n",
       "      <th>33</th>\n",
       "      <td>2212383088430312</td>\n",
       "      <td>59933</td>\n",
       "      <td>142.96</td>\n",
       "      <td>2020-01-22T21:26:52Z</td>\n",
       "      <td>997208</td>\n",
       "    </tr>\n",
       "    <tr>\n",
       "      <th>34</th>\n",
       "      <td>2212383088430312</td>\n",
       "      <td>59933</td>\n",
       "      <td>142.96</td>\n",
       "      <td>2020-01-22T21:26:52Z</td>\n",
       "      <td>759658</td>\n",
       "    </tr>\n",
       "    <tr>\n",
       "      <th>35</th>\n",
       "      <td>2212383088430312</td>\n",
       "      <td>59933</td>\n",
       "      <td>142.96</td>\n",
       "      <td>2020-01-22T21:26:52Z</td>\n",
       "      <td>317808</td>\n",
       "    </tr>\n",
       "    <tr>\n",
       "      <th>36</th>\n",
       "      <td>2212383088430312</td>\n",
       "      <td>59933</td>\n",
       "      <td>142.96</td>\n",
       "      <td>2020-01-22T21:26:52Z</td>\n",
       "      <td>771854</td>\n",
       "    </tr>\n",
       "  </tbody>\n",
       "</table>\n",
       "</div>"
      ],
      "text/plain": [
       "                  id cust_id  total_price            created_at line_item_id\n",
       "32  1104846479586545   94720        86.98  2020-02-22T21:44:05Z       759658\n",
       "33  2212383088430312   59933       142.96  2020-01-22T21:26:52Z       997208\n",
       "34  2212383088430312   59933       142.96  2020-01-22T21:26:52Z       759658\n",
       "35  2212383088430312   59933       142.96  2020-01-22T21:26:52Z       317808\n",
       "36  2212383088430312   59933       142.96  2020-01-22T21:26:52Z       771854"
      ]
     },
     "execution_count": 98,
     "metadata": {},
     "output_type": "execute_result"
    }
   ],
   "source": [
    "df_orders.tail()"
   ]
  },
  {
   "cell_type": "markdown",
   "metadata": {},
   "source": [
    "## Get Customers Data"
   ]
  },
  {
   "cell_type": "code",
   "execution_count": 8,
   "metadata": {},
   "outputs": [],
   "source": [
    "# Create Customers dataframe from orders\n",
    "df_cust = pd.DataFrame(columns=['cust_id','cust_name','cust_email'])\n",
    "\n",
    "for customer in data_orders:\n",
    "    cust_id = customer['customer']['id']\n",
    "    cust_name = customer['customer']['name']\n",
    "    cust_email = customer['customer']['email']\n",
    "    #print(cust_id,cust_name,cust_email)\n",
    "    customers = {'cust_id':cust_id,'cust_name':cust_name,'cust_email':cust_email}\n",
    "    df_cust = df_cust.append(customers,ignore_index=True)\n",
    "    #print(id,cust_id,total_price,created_at)"
   ]
  },
  {
   "cell_type": "code",
   "execution_count": 9,
   "metadata": {},
   "outputs": [
    {
     "data": {
      "text/html": [
       "<div>\n",
       "<style scoped>\n",
       "    .dataframe tbody tr th:only-of-type {\n",
       "        vertical-align: middle;\n",
       "    }\n",
       "\n",
       "    .dataframe tbody tr th {\n",
       "        vertical-align: top;\n",
       "    }\n",
       "\n",
       "    .dataframe thead th {\n",
       "        text-align: right;\n",
       "    }\n",
       "</style>\n",
       "<table border=\"1\" class=\"dataframe\">\n",
       "  <thead>\n",
       "    <tr style=\"text-align: right;\">\n",
       "      <th></th>\n",
       "      <th>cust_id</th>\n",
       "      <th>cust_name</th>\n",
       "      <th>cust_email</th>\n",
       "    </tr>\n",
       "  </thead>\n",
       "  <tbody>\n",
       "    <tr>\n",
       "      <th>0</th>\n",
       "      <td>47178</td>\n",
       "      <td>William Doe</td>\n",
       "      <td>william.doe@gmail.com</td>\n",
       "    </tr>\n",
       "    <tr>\n",
       "      <th>1</th>\n",
       "      <td>94720</td>\n",
       "      <td>Emile Tumson</td>\n",
       "      <td>emile.tumson@gmail.com</td>\n",
       "    </tr>\n",
       "    <tr>\n",
       "      <th>2</th>\n",
       "      <td>59933</td>\n",
       "      <td>Ethan Jones</td>\n",
       "      <td>ethan.jones@gmail.com</td>\n",
       "    </tr>\n",
       "    <tr>\n",
       "      <th>3</th>\n",
       "      <td>23955</td>\n",
       "      <td>Daniel Smith</td>\n",
       "      <td>daniel.smith@gmail.com</td>\n",
       "    </tr>\n",
       "    <tr>\n",
       "      <th>4</th>\n",
       "      <td>59933</td>\n",
       "      <td>Ethan Jones</td>\n",
       "      <td>ethan.jones@gmail.com</td>\n",
       "    </tr>\n",
       "  </tbody>\n",
       "</table>\n",
       "</div>"
      ],
      "text/plain": [
       "  cust_id     cust_name              cust_email\n",
       "0   47178   William Doe   william.doe@gmail.com\n",
       "1   94720  Emile Tumson  emile.tumson@gmail.com\n",
       "2   59933   Ethan Jones   ethan.jones@gmail.com\n",
       "3   23955  Daniel Smith  daniel.smith@gmail.com\n",
       "4   59933   Ethan Jones   ethan.jones@gmail.com"
      ]
     },
     "execution_count": 9,
     "metadata": {},
     "output_type": "execute_result"
    }
   ],
   "source": [
    "df_cust.head()"
   ]
  },
  {
   "cell_type": "markdown",
   "metadata": {},
   "source": [
    "## Get Line Items Data"
   ]
  },
  {
   "cell_type": "code",
   "execution_count": 10,
   "metadata": {},
   "outputs": [],
   "source": [
    "# Create Line Items dataframe from orders\n",
    "df_line_items = pd.DataFrame(columns=['line_item_id','product_id','product_sku','product_name','product_price'])\n",
    "\n",
    "for orders in data_orders:\n",
    "    for line_item in orders['line_items'] :\n",
    "        line_item_id = line_item['id']\n",
    "        product_id = line_item['product_id']\n",
    "        product_sku = line_item['product_sku']\n",
    "        product_name = line_item['product_name']\n",
    "        product_price = line_item['price']\n",
    "        #print(line_item_id,product_id,product_sku,product_name,product_price)\n",
    "        line_items = {'line_item_id':line_item_id,'product_id':product_id,'product_sku':product_sku,'product_name':product_name,'product_price':product_price}\n",
    "        df_line_items = df_line_items.append(line_items,ignore_index=True)\n",
    "    #print(id,cust_id,total_price,created_at)"
   ]
  },
  {
   "cell_type": "code",
   "execution_count": 11,
   "metadata": {},
   "outputs": [
    {
     "data": {
      "text/html": [
       "<div>\n",
       "<style scoped>\n",
       "    .dataframe tbody tr th:only-of-type {\n",
       "        vertical-align: middle;\n",
       "    }\n",
       "\n",
       "    .dataframe tbody tr th {\n",
       "        vertical-align: top;\n",
       "    }\n",
       "\n",
       "    .dataframe thead th {\n",
       "        text-align: right;\n",
       "    }\n",
       "</style>\n",
       "<table border=\"1\" class=\"dataframe\">\n",
       "  <thead>\n",
       "    <tr style=\"text-align: right;\">\n",
       "      <th></th>\n",
       "      <th>line_item_id</th>\n",
       "      <th>product_id</th>\n",
       "      <th>product_sku</th>\n",
       "      <th>product_name</th>\n",
       "      <th>product_price</th>\n",
       "    </tr>\n",
       "  </thead>\n",
       "  <tbody>\n",
       "    <tr>\n",
       "      <th>32</th>\n",
       "      <td>759658</td>\n",
       "      <td>573794972</td>\n",
       "      <td>SAGENSOUR-01</td>\n",
       "      <td>Sage N Sour Dried Flower</td>\n",
       "      <td>36.99</td>\n",
       "    </tr>\n",
       "    <tr>\n",
       "      <th>33</th>\n",
       "      <td>997208</td>\n",
       "      <td>278266679</td>\n",
       "      <td>GPSTASH-01</td>\n",
       "      <td>Grandpa's Stash Dried Flower</td>\n",
       "      <td>49.99</td>\n",
       "    </tr>\n",
       "    <tr>\n",
       "      <th>34</th>\n",
       "      <td>759658</td>\n",
       "      <td>573794972</td>\n",
       "      <td>SAGENSOUR-01</td>\n",
       "      <td>Sage N Sour Dried Flower</td>\n",
       "      <td>36.99</td>\n",
       "    </tr>\n",
       "    <tr>\n",
       "      <th>35</th>\n",
       "      <td>317808</td>\n",
       "      <td>477365777</td>\n",
       "      <td>GOGPR-07</td>\n",
       "      <td>Glueberry OG Pre-Rolls</td>\n",
       "      <td>5.99</td>\n",
       "    </tr>\n",
       "    <tr>\n",
       "      <th>36</th>\n",
       "      <td>771854</td>\n",
       "      <td>694165761</td>\n",
       "      <td>HYBTINC-03</td>\n",
       "      <td>Hybrid Blend THC Tincture</td>\n",
       "      <td>49.99</td>\n",
       "    </tr>\n",
       "  </tbody>\n",
       "</table>\n",
       "</div>"
      ],
      "text/plain": [
       "   line_item_id product_id   product_sku                  product_name  \\\n",
       "32       759658  573794972  SAGENSOUR-01      Sage N Sour Dried Flower   \n",
       "33       997208  278266679    GPSTASH-01  Grandpa's Stash Dried Flower   \n",
       "34       759658  573794972  SAGENSOUR-01      Sage N Sour Dried Flower   \n",
       "35       317808  477365777      GOGPR-07        Glueberry OG Pre-Rolls   \n",
       "36       771854  694165761    HYBTINC-03     Hybrid Blend THC Tincture   \n",
       "\n",
       "    product_price  \n",
       "32          36.99  \n",
       "33          49.99  \n",
       "34          36.99  \n",
       "35           5.99  \n",
       "36          49.99  "
      ]
     },
     "execution_count": 11,
     "metadata": {},
     "output_type": "execute_result"
    }
   ],
   "source": [
    "df_line_items.tail()"
   ]
  },
  {
   "cell_type": "markdown",
   "metadata": {},
   "source": [
    "## Get exchange rates "
   ]
  },
  {
   "cell_type": "code",
   "execution_count": 12,
   "metadata": {},
   "outputs": [],
   "source": [
    "with urlopen(\"https://api.exchangeratesapi.io/history?start_at=2019-12-01&end_at=2020-04-01&symbols=CAD&base=USD\") as response:\n",
    "    source = response.read()\n",
    "data_exc = json.loads(source)"
   ]
  },
  {
   "cell_type": "code",
   "execution_count": 13,
   "metadata": {},
   "outputs": [
    {
     "data": {
      "text/plain": [
       "{'rates': {'2020-01-07': {'CAD': 1.2996777658},\n",
       "  '2020-02-11': {'CAD': 1.3296945234},\n",
       "  '2019-12-03': {'CAD': 1.3320386596},\n",
       "  '2019-12-13': {'CAD': 1.3166278862},\n",
       "  '2019-12-18': {'CAD': 1.3156995052},\n",
       "  '2019-12-12': {'CAD': 1.3177695968},\n",
       "  '2019-12-20': {'CAD': 1.3137784987},\n",
       "  '2019-12-10': {'CAD': 1.3240046944},\n",
       "  '2020-03-09': {'CAD': 1.3628666201},\n",
       "  '2020-01-03': {'CAD': 1.2981968243},\n",
       "  '2020-02-19': {'CAD': 1.3223148148},\n",
       "  '2020-01-14': {'CAD': 1.3070625281},\n",
       "  '2020-01-10': {'CAD': 1.3071860067},\n",
       "  '2020-03-10': {'CAD': 1.3677787533},\n",
       "  '2020-03-18': {'CAD': 1.4403694897},\n",
       "  '2020-02-05': {'CAD': 1.3284949651},\n",
       "  '2020-02-20': {'CAD': 1.3256719184},\n",
       "  '2020-03-26': {'CAD': 1.4084327475},\n",
       "  '2020-03-17': {'CAD': 1.4124931706},\n",
       "  '2019-12-16': {'CAD': 1.3117710389},\n",
       "  '2019-12-24': {'CAD': 1.3160649819},\n",
       "  '2020-03-30': {'CAD': 1.4161682074},\n",
       "  '2019-12-09': {'CAD': 1.3250564334},\n",
       "  '2020-02-25': {'CAD': 1.3286900369},\n",
       "  '2019-12-30': {'CAD': 1.3067298239},\n",
       "  '2020-01-22': {'CAD': 1.3045634921},\n",
       "  '2020-03-20': {'CAD': 1.4249556365},\n",
       "  '2019-12-19': {'CAD': 1.312224521},\n",
       "  '2020-02-24': {'CAD': 1.3285265299},\n",
       "  '2020-03-25': {'CAD': 1.4352082756},\n",
       "  '2020-01-09': {'CAD': 1.3055805581},\n",
       "  '2019-12-02': {'CAD': 1.3295835979},\n",
       "  '2020-02-14': {'CAD': 1.3247555802},\n",
       "  '2020-03-03': {'CAD': 1.3364216965},\n",
       "  '2020-03-12': {'CAD': 1.38113879},\n",
       "  '2020-02-12': {'CAD': 1.3256367968},\n",
       "  '2019-12-06': {'CAD': 1.3176491797},\n",
       "  '2020-02-07': {'CAD': 1.3313884584},\n",
       "  '2020-03-05': {'CAD': 1.3427192277},\n",
       "  '2019-12-23': {'CAD': 1.3162076749},\n",
       "  '2019-12-05': {'CAD': 1.3169280692},\n",
       "  '2020-02-10': {'CAD': 1.3313852616},\n",
       "  '2020-02-04': {'CAD': 1.3279326575},\n",
       "  '2020-01-23': {'CAD': 1.3162924894},\n",
       "  '2020-01-20': {'CAD': 1.3069012179},\n",
       "  '2020-03-31': {'CAD': 1.4254289887},\n",
       "  '2020-02-27': {'CAD': 1.3349142649},\n",
       "  '2020-03-11': {'CAD': 1.3742942837},\n",
       "  '2020-03-16': {'CAD': 1.3927579098},\n",
       "  '2020-01-08': {'CAD': 1.3018443545},\n",
       "  '2020-02-03': {'CAD': 1.3236038316},\n",
       "  '2020-01-28': {'CAD': 1.3190368015},\n",
       "  '2020-02-06': {'CAD': 1.3278196855},\n",
       "  '2020-01-21': {'CAD': 1.3056230319},\n",
       "  '2020-03-23': {'CAD': 1.4383752203},\n",
       "  '2020-02-21': {'CAD': 1.3258031664},\n",
       "  '2020-03-02': {'CAD': 1.3358208955},\n",
       "  '2020-02-13': {'CAD': 1.3256648569},\n",
       "  '2020-01-31': {'CAD': 1.323470865},\n",
       "  '2019-12-11': {'CAD': 1.3237923251},\n",
       "  '2020-03-27': {'CAD': 1.4139564544},\n",
       "  '2020-01-13': {'CAD': 1.304511954},\n",
       "  '2020-01-15': {'CAD': 1.3072159397},\n",
       "  '2020-01-27': {'CAD': 1.3187301587},\n",
       "  '2020-04-01': {'CAD': 1.4265727871},\n",
       "  '2020-03-06': {'CAD': 1.3420077629},\n",
       "  '2020-01-30': {'CAD': 1.3216973434},\n",
       "  '2020-02-28': {'CAD': 1.3443563815},\n",
       "  '2020-01-24': {'CAD': 1.3131853194},\n",
       "  '2020-01-17': {'CAD': 1.3051854519},\n",
       "  '2020-01-06': {'CAD': 1.2975701269},\n",
       "  '2020-02-26': {'CAD': 1.3304827586},\n",
       "  '2020-02-18': {'CAD': 1.3262758876},\n",
       "  '2020-03-24': {'CAD': 1.4494143687},\n",
       "  '2020-01-29': {'CAD': 1.3176983911},\n",
       "  '2020-03-19': {'CAD': 1.4464401444},\n",
       "  '2020-03-13': {'CAD': 1.3858969741},\n",
       "  '2019-12-27': {'CAD': 1.3083475298},\n",
       "  '2020-01-16': {'CAD': 1.3035186677},\n",
       "  '2020-01-02': {'CAD': 1.299830251},\n",
       "  '2020-03-04': {'CAD': 1.3359101124},\n",
       "  '2019-12-31': {'CAD': 1.299448104},\n",
       "  '2019-12-04': {'CAD': 1.3272267846},\n",
       "  '2019-12-17': {'CAD': 1.3160723885},\n",
       "  '2020-02-17': {'CAD': 1.3229349331}},\n",
       " 'start_at': '2019-12-01',\n",
       " 'base': 'USD',\n",
       " 'end_at': '2020-04-01'}"
      ]
     },
     "execution_count": 13,
     "metadata": {},
     "output_type": "execute_result"
    }
   ],
   "source": [
    "data_exc"
   ]
  },
  {
   "cell_type": "code",
   "execution_count": 35,
   "metadata": {},
   "outputs": [
    {
     "data": {
      "text/plain": [
       "dict"
      ]
     },
     "execution_count": 35,
     "metadata": {},
     "output_type": "execute_result"
    }
   ],
   "source": [
    "type(data_exc)"
   ]
  },
  {
   "cell_type": "code",
   "execution_count": 36,
   "metadata": {},
   "outputs": [],
   "source": [
    "df = pd.DataFrame.from_dict(data_exc)"
   ]
  },
  {
   "cell_type": "code",
   "execution_count": 37,
   "metadata": {},
   "outputs": [],
   "source": [
    "df.drop(columns= ['start_at','end_at'], inplace = True)"
   ]
  },
  {
   "cell_type": "code",
   "execution_count": 38,
   "metadata": {},
   "outputs": [
    {
     "data": {
      "text/html": [
       "<div>\n",
       "<style scoped>\n",
       "    .dataframe tbody tr th:only-of-type {\n",
       "        vertical-align: middle;\n",
       "    }\n",
       "\n",
       "    .dataframe tbody tr th {\n",
       "        vertical-align: top;\n",
       "    }\n",
       "\n",
       "    .dataframe thead th {\n",
       "        text-align: right;\n",
       "    }\n",
       "</style>\n",
       "<table border=\"1\" class=\"dataframe\">\n",
       "  <thead>\n",
       "    <tr style=\"text-align: right;\">\n",
       "      <th></th>\n",
       "      <th>rates</th>\n",
       "      <th>base</th>\n",
       "    </tr>\n",
       "  </thead>\n",
       "  <tbody>\n",
       "    <tr>\n",
       "      <th>2019-12-02</th>\n",
       "      <td>{'CAD': 1.3295835979}</td>\n",
       "      <td>USD</td>\n",
       "    </tr>\n",
       "    <tr>\n",
       "      <th>2019-12-03</th>\n",
       "      <td>{'CAD': 1.3320386596}</td>\n",
       "      <td>USD</td>\n",
       "    </tr>\n",
       "    <tr>\n",
       "      <th>2019-12-04</th>\n",
       "      <td>{'CAD': 1.3272267846}</td>\n",
       "      <td>USD</td>\n",
       "    </tr>\n",
       "    <tr>\n",
       "      <th>2019-12-05</th>\n",
       "      <td>{'CAD': 1.3169280692}</td>\n",
       "      <td>USD</td>\n",
       "    </tr>\n",
       "    <tr>\n",
       "      <th>2019-12-06</th>\n",
       "      <td>{'CAD': 1.3176491797}</td>\n",
       "      <td>USD</td>\n",
       "    </tr>\n",
       "  </tbody>\n",
       "</table>\n",
       "</div>"
      ],
      "text/plain": [
       "                            rates base\n",
       "2019-12-02  {'CAD': 1.3295835979}  USD\n",
       "2019-12-03  {'CAD': 1.3320386596}  USD\n",
       "2019-12-04  {'CAD': 1.3272267846}  USD\n",
       "2019-12-05  {'CAD': 1.3169280692}  USD\n",
       "2019-12-06  {'CAD': 1.3176491797}  USD"
      ]
     },
     "execution_count": 38,
     "metadata": {},
     "output_type": "execute_result"
    }
   ],
   "source": [
    "df.head()"
   ]
  },
  {
   "cell_type": "code",
   "execution_count": 39,
   "metadata": {},
   "outputs": [
    {
     "data": {
      "text/html": [
       "<div>\n",
       "<style scoped>\n",
       "    .dataframe tbody tr th:only-of-type {\n",
       "        vertical-align: middle;\n",
       "    }\n",
       "\n",
       "    .dataframe tbody tr th {\n",
       "        vertical-align: top;\n",
       "    }\n",
       "\n",
       "    .dataframe thead th {\n",
       "        text-align: right;\n",
       "    }\n",
       "</style>\n",
       "<table border=\"1\" class=\"dataframe\">\n",
       "  <thead>\n",
       "    <tr style=\"text-align: right;\">\n",
       "      <th></th>\n",
       "      <th>rates</th>\n",
       "      <th>base</th>\n",
       "    </tr>\n",
       "  </thead>\n",
       "  <tbody>\n",
       "    <tr>\n",
       "      <th>2019-12-02</th>\n",
       "      <td>1.3295835979</td>\n",
       "      <td>USD</td>\n",
       "    </tr>\n",
       "    <tr>\n",
       "      <th>2019-12-03</th>\n",
       "      <td>1.3320386596</td>\n",
       "      <td>USD</td>\n",
       "    </tr>\n",
       "    <tr>\n",
       "      <th>2019-12-04</th>\n",
       "      <td>1.3272267846</td>\n",
       "      <td>USD</td>\n",
       "    </tr>\n",
       "    <tr>\n",
       "      <th>2019-12-05</th>\n",
       "      <td>1.3169280692</td>\n",
       "      <td>USD</td>\n",
       "    </tr>\n",
       "    <tr>\n",
       "      <th>2019-12-06</th>\n",
       "      <td>1.3176491797</td>\n",
       "      <td>USD</td>\n",
       "    </tr>\n",
       "  </tbody>\n",
       "</table>\n",
       "</div>"
      ],
      "text/plain": [
       "                    rates base\n",
       "2019-12-02   1.3295835979  USD\n",
       "2019-12-03   1.3320386596  USD\n",
       "2019-12-04   1.3272267846  USD\n",
       "2019-12-05   1.3169280692  USD\n",
       "2019-12-06   1.3176491797  USD"
      ]
     },
     "execution_count": 39,
     "metadata": {},
     "output_type": "execute_result"
    }
   ],
   "source": [
    "df['rates'] =df['rates'].astype('str')\n",
    "df['rates'] = df['rates'].apply(lambda x : x.split(\":\")[1])\n",
    "df['rates'] = df['rates'].apply(lambda x :x.replace('}',''))\n",
    "df.head()                                                "
   ]
  },
  {
   "cell_type": "code",
   "execution_count": 40,
   "metadata": {},
   "outputs": [
    {
     "data": {
      "text/plain": [
       "pandas.core.series.Series"
      ]
     },
     "execution_count": 40,
     "metadata": {},
     "output_type": "execute_result"
    }
   ],
   "source": [
    "type(df['rates'])"
   ]
  },
  {
   "cell_type": "code",
   "execution_count": 58,
   "metadata": {},
   "outputs": [],
   "source": [
    "df['date'] = df.index\n",
    "#df.set_index('date', inplace= True)"
   ]
  },
  {
   "cell_type": "code",
   "execution_count": 59,
   "metadata": {},
   "outputs": [
    {
     "data": {
      "text/html": [
       "<div>\n",
       "<style scoped>\n",
       "    .dataframe tbody tr th:only-of-type {\n",
       "        vertical-align: middle;\n",
       "    }\n",
       "\n",
       "    .dataframe tbody tr th {\n",
       "        vertical-align: top;\n",
       "    }\n",
       "\n",
       "    .dataframe thead th {\n",
       "        text-align: right;\n",
       "    }\n",
       "</style>\n",
       "<table border=\"1\" class=\"dataframe\">\n",
       "  <thead>\n",
       "    <tr style=\"text-align: right;\">\n",
       "      <th></th>\n",
       "      <th>rates</th>\n",
       "      <th>base</th>\n",
       "      <th>date</th>\n",
       "    </tr>\n",
       "  </thead>\n",
       "  <tbody>\n",
       "    <tr>\n",
       "      <th>2019-12-02</th>\n",
       "      <td>1.3295835979</td>\n",
       "      <td>USD</td>\n",
       "      <td>2019-12-02</td>\n",
       "    </tr>\n",
       "    <tr>\n",
       "      <th>2019-12-03</th>\n",
       "      <td>1.3320386596</td>\n",
       "      <td>USD</td>\n",
       "      <td>2019-12-03</td>\n",
       "    </tr>\n",
       "    <tr>\n",
       "      <th>2019-12-04</th>\n",
       "      <td>1.3272267846</td>\n",
       "      <td>USD</td>\n",
       "      <td>2019-12-04</td>\n",
       "    </tr>\n",
       "    <tr>\n",
       "      <th>2019-12-05</th>\n",
       "      <td>1.3169280692</td>\n",
       "      <td>USD</td>\n",
       "      <td>2019-12-05</td>\n",
       "    </tr>\n",
       "    <tr>\n",
       "      <th>2019-12-06</th>\n",
       "      <td>1.3176491797</td>\n",
       "      <td>USD</td>\n",
       "      <td>2019-12-06</td>\n",
       "    </tr>\n",
       "  </tbody>\n",
       "</table>\n",
       "</div>"
      ],
      "text/plain": [
       "                    rates base        date\n",
       "2019-12-02   1.3295835979  USD  2019-12-02\n",
       "2019-12-03   1.3320386596  USD  2019-12-03\n",
       "2019-12-04   1.3272267846  USD  2019-12-04\n",
       "2019-12-05   1.3169280692  USD  2019-12-05\n",
       "2019-12-06   1.3176491797  USD  2019-12-06"
      ]
     },
     "execution_count": 59,
     "metadata": {},
     "output_type": "execute_result"
    }
   ],
   "source": [
    "df.head()"
   ]
  },
  {
   "cell_type": "code",
   "execution_count": 60,
   "metadata": {},
   "outputs": [
    {
     "data": {
      "text/plain": [
       "rates     1.3295835979\n",
       "base               USD\n",
       "date        2019-12-02\n",
       "Name: 2019-12-02, dtype: object"
      ]
     },
     "execution_count": 60,
     "metadata": {},
     "output_type": "execute_result"
    }
   ],
   "source": [
    "df.iloc[0]"
   ]
  },
  {
   "cell_type": "code",
   "execution_count": 61,
   "metadata": {},
   "outputs": [],
   "source": [
    "df.sort_index(ascending = True,inplace = True)"
   ]
  },
  {
   "cell_type": "code",
   "execution_count": 62,
   "metadata": {},
   "outputs": [
    {
     "data": {
      "text/html": [
       "<div>\n",
       "<style scoped>\n",
       "    .dataframe tbody tr th:only-of-type {\n",
       "        vertical-align: middle;\n",
       "    }\n",
       "\n",
       "    .dataframe tbody tr th {\n",
       "        vertical-align: top;\n",
       "    }\n",
       "\n",
       "    .dataframe thead th {\n",
       "        text-align: right;\n",
       "    }\n",
       "</style>\n",
       "<table border=\"1\" class=\"dataframe\">\n",
       "  <thead>\n",
       "    <tr style=\"text-align: right;\">\n",
       "      <th></th>\n",
       "      <th>rates</th>\n",
       "      <th>base</th>\n",
       "      <th>date</th>\n",
       "    </tr>\n",
       "  </thead>\n",
       "  <tbody>\n",
       "    <tr>\n",
       "      <th>2019-12-02</th>\n",
       "      <td>1.3295835979</td>\n",
       "      <td>USD</td>\n",
       "      <td>2019-12-02</td>\n",
       "    </tr>\n",
       "    <tr>\n",
       "      <th>2019-12-03</th>\n",
       "      <td>1.3320386596</td>\n",
       "      <td>USD</td>\n",
       "      <td>2019-12-03</td>\n",
       "    </tr>\n",
       "    <tr>\n",
       "      <th>2019-12-04</th>\n",
       "      <td>1.3272267846</td>\n",
       "      <td>USD</td>\n",
       "      <td>2019-12-04</td>\n",
       "    </tr>\n",
       "    <tr>\n",
       "      <th>2019-12-05</th>\n",
       "      <td>1.3169280692</td>\n",
       "      <td>USD</td>\n",
       "      <td>2019-12-05</td>\n",
       "    </tr>\n",
       "    <tr>\n",
       "      <th>2019-12-06</th>\n",
       "      <td>1.3176491797</td>\n",
       "      <td>USD</td>\n",
       "      <td>2019-12-06</td>\n",
       "    </tr>\n",
       "  </tbody>\n",
       "</table>\n",
       "</div>"
      ],
      "text/plain": [
       "                    rates base        date\n",
       "2019-12-02   1.3295835979  USD  2019-12-02\n",
       "2019-12-03   1.3320386596  USD  2019-12-03\n",
       "2019-12-04   1.3272267846  USD  2019-12-04\n",
       "2019-12-05   1.3169280692  USD  2019-12-05\n",
       "2019-12-06   1.3176491797  USD  2019-12-06"
      ]
     },
     "execution_count": 62,
     "metadata": {},
     "output_type": "execute_result"
    }
   ],
   "source": [
    "\n",
    "df.head()"
   ]
  },
  {
   "cell_type": "code",
   "execution_count": 63,
   "metadata": {},
   "outputs": [
    {
     "name": "stdout",
     "output_type": "stream",
     "text": [
      "<class 'pandas.core.frame.DataFrame'>\n",
      "Index: 85 entries, 2019-12-02 to 2020-04-01\n",
      "Data columns (total 3 columns):\n",
      " #   Column  Non-Null Count  Dtype \n",
      "---  ------  --------------  ----- \n",
      " 0   rates   85 non-null     object\n",
      " 1   base    85 non-null     object\n",
      " 2   date    85 non-null     object\n",
      "dtypes: object(3)\n",
      "memory usage: 1.3+ KB\n"
     ]
    }
   ],
   "source": [
    "df.info()\n"
   ]
  },
  {
   "cell_type": "code",
   "execution_count": 64,
   "metadata": {},
   "outputs": [],
   "source": [
    "# Converting date to date type\n",
    "df['date'] = pd.to_datetime(df['date'], format = '%Y-%m-%d')"
   ]
  },
  {
   "cell_type": "code",
   "execution_count": 65,
   "metadata": {},
   "outputs": [
    {
     "name": "stdout",
     "output_type": "stream",
     "text": [
      "<class 'pandas.core.frame.DataFrame'>\n",
      "Index: 85 entries, 2019-12-02 to 2020-04-01\n",
      "Data columns (total 3 columns):\n",
      " #   Column  Non-Null Count  Dtype         \n",
      "---  ------  --------------  -----         \n",
      " 0   rates   85 non-null     object        \n",
      " 1   base    85 non-null     object        \n",
      " 2   date    85 non-null     datetime64[ns]\n",
      "dtypes: datetime64[ns](1), object(2)\n",
      "memory usage: 1.7+ KB\n"
     ]
    }
   ],
   "source": [
    "df.info()"
   ]
  },
  {
   "cell_type": "code",
   "execution_count": 70,
   "metadata": {},
   "outputs": [
    {
     "data": {
      "text/html": [
       "<div>\n",
       "<style scoped>\n",
       "    .dataframe tbody tr th:only-of-type {\n",
       "        vertical-align: middle;\n",
       "    }\n",
       "\n",
       "    .dataframe tbody tr th {\n",
       "        vertical-align: top;\n",
       "    }\n",
       "\n",
       "    .dataframe thead th {\n",
       "        text-align: right;\n",
       "    }\n",
       "</style>\n",
       "<table border=\"1\" class=\"dataframe\">\n",
       "  <thead>\n",
       "    <tr style=\"text-align: right;\">\n",
       "      <th></th>\n",
       "      <th>rates</th>\n",
       "      <th>base</th>\n",
       "      <th>date</th>\n",
       "      <th>exchanged_to</th>\n",
       "    </tr>\n",
       "  </thead>\n",
       "  <tbody>\n",
       "    <tr>\n",
       "      <th>0</th>\n",
       "      <td>1.3295835979</td>\n",
       "      <td>USD</td>\n",
       "      <td>2019-12-02</td>\n",
       "      <td>CAD</td>\n",
       "    </tr>\n",
       "    <tr>\n",
       "      <th>1</th>\n",
       "      <td>1.3320386596</td>\n",
       "      <td>USD</td>\n",
       "      <td>2019-12-03</td>\n",
       "      <td>CAD</td>\n",
       "    </tr>\n",
       "    <tr>\n",
       "      <th>2</th>\n",
       "      <td>1.3272267846</td>\n",
       "      <td>USD</td>\n",
       "      <td>2019-12-04</td>\n",
       "      <td>CAD</td>\n",
       "    </tr>\n",
       "    <tr>\n",
       "      <th>3</th>\n",
       "      <td>1.3169280692</td>\n",
       "      <td>USD</td>\n",
       "      <td>2019-12-05</td>\n",
       "      <td>CAD</td>\n",
       "    </tr>\n",
       "    <tr>\n",
       "      <th>4</th>\n",
       "      <td>1.3176491797</td>\n",
       "      <td>USD</td>\n",
       "      <td>2019-12-06</td>\n",
       "      <td>CAD</td>\n",
       "    </tr>\n",
       "  </tbody>\n",
       "</table>\n",
       "</div>"
      ],
      "text/plain": [
       "           rates base       date exchanged_to\n",
       "0   1.3295835979  USD 2019-12-02          CAD\n",
       "1   1.3320386596  USD 2019-12-03          CAD\n",
       "2   1.3272267846  USD 2019-12-04          CAD\n",
       "3   1.3169280692  USD 2019-12-05          CAD\n",
       "4   1.3176491797  USD 2019-12-06          CAD"
      ]
     },
     "execution_count": 70,
     "metadata": {},
     "output_type": "execute_result"
    }
   ],
   "source": [
    "df.reset_index(drop=True, inplace = True)\n",
    "df.head()"
   ]
  },
  {
   "cell_type": "code",
   "execution_count": 73,
   "metadata": {},
   "outputs": [],
   "source": [
    "df['exchanged_to'] = \"CAD\"\n",
    "df['day']= df['date'].apply( lambda x: x.day_name())"
   ]
  },
  {
   "cell_type": "code",
   "execution_count": 74,
   "metadata": {},
   "outputs": [
    {
     "data": {
      "text/html": [
       "<div>\n",
       "<style scoped>\n",
       "    .dataframe tbody tr th:only-of-type {\n",
       "        vertical-align: middle;\n",
       "    }\n",
       "\n",
       "    .dataframe tbody tr th {\n",
       "        vertical-align: top;\n",
       "    }\n",
       "\n",
       "    .dataframe thead th {\n",
       "        text-align: right;\n",
       "    }\n",
       "</style>\n",
       "<table border=\"1\" class=\"dataframe\">\n",
       "  <thead>\n",
       "    <tr style=\"text-align: right;\">\n",
       "      <th></th>\n",
       "      <th>rates</th>\n",
       "      <th>base</th>\n",
       "      <th>date</th>\n",
       "      <th>exchanged_to</th>\n",
       "      <th>day</th>\n",
       "    </tr>\n",
       "  </thead>\n",
       "  <tbody>\n",
       "    <tr>\n",
       "      <th>0</th>\n",
       "      <td>1.3295835979</td>\n",
       "      <td>USD</td>\n",
       "      <td>2019-12-02</td>\n",
       "      <td>CAD</td>\n",
       "      <td>Monday</td>\n",
       "    </tr>\n",
       "    <tr>\n",
       "      <th>1</th>\n",
       "      <td>1.3320386596</td>\n",
       "      <td>USD</td>\n",
       "      <td>2019-12-03</td>\n",
       "      <td>CAD</td>\n",
       "      <td>Tuesday</td>\n",
       "    </tr>\n",
       "    <tr>\n",
       "      <th>2</th>\n",
       "      <td>1.3272267846</td>\n",
       "      <td>USD</td>\n",
       "      <td>2019-12-04</td>\n",
       "      <td>CAD</td>\n",
       "      <td>Wednesday</td>\n",
       "    </tr>\n",
       "    <tr>\n",
       "      <th>3</th>\n",
       "      <td>1.3169280692</td>\n",
       "      <td>USD</td>\n",
       "      <td>2019-12-05</td>\n",
       "      <td>CAD</td>\n",
       "      <td>Thursday</td>\n",
       "    </tr>\n",
       "    <tr>\n",
       "      <th>4</th>\n",
       "      <td>1.3176491797</td>\n",
       "      <td>USD</td>\n",
       "      <td>2019-12-06</td>\n",
       "      <td>CAD</td>\n",
       "      <td>Friday</td>\n",
       "    </tr>\n",
       "  </tbody>\n",
       "</table>\n",
       "</div>"
      ],
      "text/plain": [
       "           rates base       date exchanged_to        day\n",
       "0   1.3295835979  USD 2019-12-02          CAD     Monday\n",
       "1   1.3320386596  USD 2019-12-03          CAD    Tuesday\n",
       "2   1.3272267846  USD 2019-12-04          CAD  Wednesday\n",
       "3   1.3169280692  USD 2019-12-05          CAD   Thursday\n",
       "4   1.3176491797  USD 2019-12-06          CAD     Friday"
      ]
     },
     "execution_count": 74,
     "metadata": {},
     "output_type": "execute_result"
    }
   ],
   "source": [
    "df.head()"
   ]
  },
  {
   "cell_type": "code",
   "execution_count": 75,
   "metadata": {},
   "outputs": [
    {
     "data": {
      "text/plain": [
       "Monday       18\n",
       "Tuesday      18\n",
       "Friday       17\n",
       "Thursday     16\n",
       "Wednesday    16\n",
       "Name: day, dtype: int64"
      ]
     },
     "execution_count": 75,
     "metadata": {},
     "output_type": "execute_result"
    }
   ],
   "source": [
    "df['day'].value_counts()"
   ]
  },
  {
   "cell_type": "markdown",
   "metadata": {},
   "source": [
    "Exchange Rates for Saturday and Sunday are not present as financial working days do not include weekends"
   ]
  },
  {
   "cell_type": "markdown",
   "metadata": {},
   "source": [
    "## Join exchange rates to orders"
   ]
  },
  {
   "cell_type": "code",
   "execution_count": 100,
   "metadata": {},
   "outputs": [
    {
     "data": {
      "text/html": [
       "<div>\n",
       "<style scoped>\n",
       "    .dataframe tbody tr th:only-of-type {\n",
       "        vertical-align: middle;\n",
       "    }\n",
       "\n",
       "    .dataframe tbody tr th {\n",
       "        vertical-align: top;\n",
       "    }\n",
       "\n",
       "    .dataframe thead th {\n",
       "        text-align: right;\n",
       "    }\n",
       "</style>\n",
       "<table border=\"1\" class=\"dataframe\">\n",
       "  <thead>\n",
       "    <tr style=\"text-align: right;\">\n",
       "      <th></th>\n",
       "      <th>id</th>\n",
       "      <th>cust_id</th>\n",
       "      <th>total_price</th>\n",
       "      <th>created_at</th>\n",
       "      <th>line_item_id</th>\n",
       "    </tr>\n",
       "  </thead>\n",
       "  <tbody>\n",
       "    <tr>\n",
       "      <th>32</th>\n",
       "      <td>1104846479586545</td>\n",
       "      <td>94720</td>\n",
       "      <td>86.98</td>\n",
       "      <td>2020-02-22T21:44:05Z</td>\n",
       "      <td>759658</td>\n",
       "    </tr>\n",
       "    <tr>\n",
       "      <th>33</th>\n",
       "      <td>2212383088430312</td>\n",
       "      <td>59933</td>\n",
       "      <td>142.96</td>\n",
       "      <td>2020-01-22T21:26:52Z</td>\n",
       "      <td>997208</td>\n",
       "    </tr>\n",
       "    <tr>\n",
       "      <th>34</th>\n",
       "      <td>2212383088430312</td>\n",
       "      <td>59933</td>\n",
       "      <td>142.96</td>\n",
       "      <td>2020-01-22T21:26:52Z</td>\n",
       "      <td>759658</td>\n",
       "    </tr>\n",
       "    <tr>\n",
       "      <th>35</th>\n",
       "      <td>2212383088430312</td>\n",
       "      <td>59933</td>\n",
       "      <td>142.96</td>\n",
       "      <td>2020-01-22T21:26:52Z</td>\n",
       "      <td>317808</td>\n",
       "    </tr>\n",
       "    <tr>\n",
       "      <th>36</th>\n",
       "      <td>2212383088430312</td>\n",
       "      <td>59933</td>\n",
       "      <td>142.96</td>\n",
       "      <td>2020-01-22T21:26:52Z</td>\n",
       "      <td>771854</td>\n",
       "    </tr>\n",
       "  </tbody>\n",
       "</table>\n",
       "</div>"
      ],
      "text/plain": [
       "                  id cust_id  total_price            created_at line_item_id\n",
       "32  1104846479586545   94720        86.98  2020-02-22T21:44:05Z       759658\n",
       "33  2212383088430312   59933       142.96  2020-01-22T21:26:52Z       997208\n",
       "34  2212383088430312   59933       142.96  2020-01-22T21:26:52Z       759658\n",
       "35  2212383088430312   59933       142.96  2020-01-22T21:26:52Z       317808\n",
       "36  2212383088430312   59933       142.96  2020-01-22T21:26:52Z       771854"
      ]
     },
     "execution_count": 100,
     "metadata": {},
     "output_type": "execute_result"
    }
   ],
   "source": [
    "# Convert created_at to date\n",
    "df_orders.tail()"
   ]
  },
  {
   "cell_type": "code",
   "execution_count": 101,
   "metadata": {},
   "outputs": [],
   "source": [
    "df_orders['created_at'] = df_orders['created_at'].apply(lambda x : x.replace('T',\" \").replace('Z',\"\"))"
   ]
  },
  {
   "cell_type": "code",
   "execution_count": 102,
   "metadata": {},
   "outputs": [
    {
     "data": {
      "text/html": [
       "<div>\n",
       "<style scoped>\n",
       "    .dataframe tbody tr th:only-of-type {\n",
       "        vertical-align: middle;\n",
       "    }\n",
       "\n",
       "    .dataframe tbody tr th {\n",
       "        vertical-align: top;\n",
       "    }\n",
       "\n",
       "    .dataframe thead th {\n",
       "        text-align: right;\n",
       "    }\n",
       "</style>\n",
       "<table border=\"1\" class=\"dataframe\">\n",
       "  <thead>\n",
       "    <tr style=\"text-align: right;\">\n",
       "      <th></th>\n",
       "      <th>id</th>\n",
       "      <th>cust_id</th>\n",
       "      <th>total_price</th>\n",
       "      <th>created_at</th>\n",
       "      <th>line_item_id</th>\n",
       "    </tr>\n",
       "  </thead>\n",
       "  <tbody>\n",
       "    <tr>\n",
       "      <th>32</th>\n",
       "      <td>1104846479586545</td>\n",
       "      <td>94720</td>\n",
       "      <td>86.98</td>\n",
       "      <td>2020-02-22 21:44:05</td>\n",
       "      <td>759658</td>\n",
       "    </tr>\n",
       "    <tr>\n",
       "      <th>33</th>\n",
       "      <td>2212383088430312</td>\n",
       "      <td>59933</td>\n",
       "      <td>142.96</td>\n",
       "      <td>2020-01-22 21:26:52</td>\n",
       "      <td>997208</td>\n",
       "    </tr>\n",
       "    <tr>\n",
       "      <th>34</th>\n",
       "      <td>2212383088430312</td>\n",
       "      <td>59933</td>\n",
       "      <td>142.96</td>\n",
       "      <td>2020-01-22 21:26:52</td>\n",
       "      <td>759658</td>\n",
       "    </tr>\n",
       "    <tr>\n",
       "      <th>35</th>\n",
       "      <td>2212383088430312</td>\n",
       "      <td>59933</td>\n",
       "      <td>142.96</td>\n",
       "      <td>2020-01-22 21:26:52</td>\n",
       "      <td>317808</td>\n",
       "    </tr>\n",
       "    <tr>\n",
       "      <th>36</th>\n",
       "      <td>2212383088430312</td>\n",
       "      <td>59933</td>\n",
       "      <td>142.96</td>\n",
       "      <td>2020-01-22 21:26:52</td>\n",
       "      <td>771854</td>\n",
       "    </tr>\n",
       "  </tbody>\n",
       "</table>\n",
       "</div>"
      ],
      "text/plain": [
       "                  id cust_id  total_price           created_at line_item_id\n",
       "32  1104846479586545   94720        86.98  2020-02-22 21:44:05       759658\n",
       "33  2212383088430312   59933       142.96  2020-01-22 21:26:52       997208\n",
       "34  2212383088430312   59933       142.96  2020-01-22 21:26:52       759658\n",
       "35  2212383088430312   59933       142.96  2020-01-22 21:26:52       317808\n",
       "36  2212383088430312   59933       142.96  2020-01-22 21:26:52       771854"
      ]
     },
     "execution_count": 102,
     "metadata": {},
     "output_type": "execute_result"
    }
   ],
   "source": [
    "df_orders.tail()"
   ]
  },
  {
   "cell_type": "code",
   "execution_count": 103,
   "metadata": {},
   "outputs": [
    {
     "name": "stdout",
     "output_type": "stream",
     "text": [
      "<class 'pandas.core.frame.DataFrame'>\n",
      "RangeIndex: 37 entries, 0 to 36\n",
      "Data columns (total 5 columns):\n",
      " #   Column        Non-Null Count  Dtype  \n",
      "---  ------        --------------  -----  \n",
      " 0   id            37 non-null     object \n",
      " 1   cust_id       37 non-null     object \n",
      " 2   total_price   37 non-null     float64\n",
      " 3   created_at    37 non-null     object \n",
      " 4   line_item_id  37 non-null     object \n",
      "dtypes: float64(1), object(4)\n",
      "memory usage: 952.0+ bytes\n"
     ]
    }
   ],
   "source": [
    "df_orders.info()"
   ]
  },
  {
   "cell_type": "code",
   "execution_count": 104,
   "metadata": {},
   "outputs": [],
   "source": [
    "# Convert to datetime\n",
    "df_orders['created_at'] = pd.to_datetime(df_orders['created_at'], format = '%Y-%m-%d %H')"
   ]
  },
  {
   "cell_type": "code",
   "execution_count": 105,
   "metadata": {},
   "outputs": [
    {
     "name": "stdout",
     "output_type": "stream",
     "text": [
      "<class 'pandas.core.frame.DataFrame'>\n",
      "RangeIndex: 37 entries, 0 to 36\n",
      "Data columns (total 5 columns):\n",
      " #   Column        Non-Null Count  Dtype         \n",
      "---  ------        --------------  -----         \n",
      " 0   id            37 non-null     object        \n",
      " 1   cust_id       37 non-null     object        \n",
      " 2   total_price   37 non-null     float64       \n",
      " 3   created_at    37 non-null     datetime64[ns]\n",
      " 4   line_item_id  37 non-null     object        \n",
      "dtypes: datetime64[ns](1), float64(1), object(3)\n",
      "memory usage: 1.1+ KB\n"
     ]
    }
   ],
   "source": [
    "df_orders.info()"
   ]
  },
  {
   "cell_type": "code",
   "execution_count": 106,
   "metadata": {},
   "outputs": [],
   "source": [
    "df_orders['orders_day'] = df_orders['created_at'].apply( lambda x: x.day_name())\n",
    "df_orders['orders_date'] = df_orders['created_at'].apply( lambda x: x.date())"
   ]
  },
  {
   "cell_type": "code",
   "execution_count": 107,
   "metadata": {},
   "outputs": [
    {
     "data": {
      "text/html": [
       "<div>\n",
       "<style scoped>\n",
       "    .dataframe tbody tr th:only-of-type {\n",
       "        vertical-align: middle;\n",
       "    }\n",
       "\n",
       "    .dataframe tbody tr th {\n",
       "        vertical-align: top;\n",
       "    }\n",
       "\n",
       "    .dataframe thead th {\n",
       "        text-align: right;\n",
       "    }\n",
       "</style>\n",
       "<table border=\"1\" class=\"dataframe\">\n",
       "  <thead>\n",
       "    <tr style=\"text-align: right;\">\n",
       "      <th></th>\n",
       "      <th>id</th>\n",
       "      <th>cust_id</th>\n",
       "      <th>total_price</th>\n",
       "      <th>created_at</th>\n",
       "      <th>line_item_id</th>\n",
       "      <th>orders_day</th>\n",
       "      <th>orders_date</th>\n",
       "    </tr>\n",
       "  </thead>\n",
       "  <tbody>\n",
       "    <tr>\n",
       "      <th>32</th>\n",
       "      <td>1104846479586545</td>\n",
       "      <td>94720</td>\n",
       "      <td>86.98</td>\n",
       "      <td>2020-02-22 21:44:05</td>\n",
       "      <td>759658</td>\n",
       "      <td>Saturday</td>\n",
       "      <td>2020-02-22</td>\n",
       "    </tr>\n",
       "    <tr>\n",
       "      <th>33</th>\n",
       "      <td>2212383088430312</td>\n",
       "      <td>59933</td>\n",
       "      <td>142.96</td>\n",
       "      <td>2020-01-22 21:26:52</td>\n",
       "      <td>997208</td>\n",
       "      <td>Wednesday</td>\n",
       "      <td>2020-01-22</td>\n",
       "    </tr>\n",
       "    <tr>\n",
       "      <th>34</th>\n",
       "      <td>2212383088430312</td>\n",
       "      <td>59933</td>\n",
       "      <td>142.96</td>\n",
       "      <td>2020-01-22 21:26:52</td>\n",
       "      <td>759658</td>\n",
       "      <td>Wednesday</td>\n",
       "      <td>2020-01-22</td>\n",
       "    </tr>\n",
       "    <tr>\n",
       "      <th>35</th>\n",
       "      <td>2212383088430312</td>\n",
       "      <td>59933</td>\n",
       "      <td>142.96</td>\n",
       "      <td>2020-01-22 21:26:52</td>\n",
       "      <td>317808</td>\n",
       "      <td>Wednesday</td>\n",
       "      <td>2020-01-22</td>\n",
       "    </tr>\n",
       "    <tr>\n",
       "      <th>36</th>\n",
       "      <td>2212383088430312</td>\n",
       "      <td>59933</td>\n",
       "      <td>142.96</td>\n",
       "      <td>2020-01-22 21:26:52</td>\n",
       "      <td>771854</td>\n",
       "      <td>Wednesday</td>\n",
       "      <td>2020-01-22</td>\n",
       "    </tr>\n",
       "  </tbody>\n",
       "</table>\n",
       "</div>"
      ],
      "text/plain": [
       "                  id cust_id  total_price          created_at line_item_id  \\\n",
       "32  1104846479586545   94720        86.98 2020-02-22 21:44:05       759658   \n",
       "33  2212383088430312   59933       142.96 2020-01-22 21:26:52       997208   \n",
       "34  2212383088430312   59933       142.96 2020-01-22 21:26:52       759658   \n",
       "35  2212383088430312   59933       142.96 2020-01-22 21:26:52       317808   \n",
       "36  2212383088430312   59933       142.96 2020-01-22 21:26:52       771854   \n",
       "\n",
       "   orders_day orders_date  \n",
       "32   Saturday  2020-02-22  \n",
       "33  Wednesday  2020-01-22  \n",
       "34  Wednesday  2020-01-22  \n",
       "35  Wednesday  2020-01-22  \n",
       "36  Wednesday  2020-01-22  "
      ]
     },
     "execution_count": 107,
     "metadata": {},
     "output_type": "execute_result"
    }
   ],
   "source": [
    "df_orders.tail()"
   ]
  },
  {
   "cell_type": "code",
   "execution_count": 108,
   "metadata": {},
   "outputs": [
    {
     "data": {
      "text/plain": [
       "Wednesday    12\n",
       "Sunday        9\n",
       "Thursday      5\n",
       "Saturday      5\n",
       "Tuesday       4\n",
       "Friday        2\n",
       "Name: orders_day, dtype: int64"
      ]
     },
     "execution_count": 108,
     "metadata": {},
     "output_type": "execute_result"
    }
   ],
   "source": [
    "df_orders['orders_day'].value_counts()"
   ]
  },
  {
   "cell_type": "markdown",
   "metadata": {},
   "source": [
    "As Orders are placed on weekends also, but exchange rates do not change on weekends; so we will take that Friday's exchange rate for weekend orders"
   ]
  },
  {
   "cell_type": "markdown",
   "metadata": {},
   "source": [
    "## Save the csv files"
   ]
  },
  {
   "cell_type": "code",
   "execution_count": 112,
   "metadata": {},
   "outputs": [],
   "source": [
    "df_orders.to_csv(\"orders.csv\", index = False)\n",
    "df_cust.to_csv(\"customers.csv\",index = False)\n",
    "df_line_items.to_csv(\"line_items.csv\",index = False)\n",
    "df.to_csv(\"exchange_rates.csv\",index = False)"
   ]
  },
  {
   "cell_type": "code",
   "execution_count": null,
   "metadata": {},
   "outputs": [],
   "source": []
  }
 ],
 "metadata": {
  "kernelspec": {
   "display_name": "Python 3",
   "language": "python",
   "name": "python3"
  },
  "language_info": {
   "codemirror_mode": {
    "name": "ipython",
    "version": 3
   },
   "file_extension": ".py",
   "mimetype": "text/x-python",
   "name": "python",
   "nbconvert_exporter": "python",
   "pygments_lexer": "ipython3",
   "version": "3.7.6"
  }
 },
 "nbformat": 4,
 "nbformat_minor": 4
}
