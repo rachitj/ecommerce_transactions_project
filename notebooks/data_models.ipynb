{
 "cells": [
  {
   "cell_type": "code",
   "execution_count": 1,
   "metadata": {},
   "outputs": [],
   "source": [
    " import pandas as pd\n",
    " import pyodbc"
   ]
  },
  {
   "cell_type": "markdown",
   "metadata": {},
   "source": [
    "## Get the data in dataframes"
   ]
  },
  {
   "cell_type": "code",
   "execution_count": 2,
   "metadata": {},
   "outputs": [],
   "source": [
    "df_orders= pd.read_csv(\"orders.csv\")\n",
    "df_cust = pd.read_csv(\"customers.csv\")\n",
    "df_line_items = pd.read_csv(\"line_items.csv\")\n",
    "df_exch = pd.read_csv(\"exchange_rates.csv\")"
   ]
  },
  {
   "cell_type": "code",
   "execution_count": 3,
   "metadata": {},
   "outputs": [
    {
     "name": "stdout",
     "output_type": "stream",
     "text": [
      "Driver da Microsoft para arquivos texto (*.txt; *.csv)\n",
      "Driver do Microsoft Access (*.mdb)\n",
      "Driver do Microsoft dBase (*.dbf)\n",
      "Driver do Microsoft Excel(*.xls)\n",
      "Driver do Microsoft Paradox (*.db )\n",
      "Microsoft Access Driver (*.mdb)\n",
      "Microsoft Access-Treiber (*.mdb)\n",
      "Microsoft dBase Driver (*.dbf)\n",
      "Microsoft dBase-Treiber (*.dbf)\n",
      "Microsoft Excel Driver (*.xls)\n",
      "Microsoft Excel-Treiber (*.xls)\n",
      "Microsoft ODBC for Oracle\n",
      "Microsoft Paradox Driver (*.db )\n",
      "Microsoft Paradox-Treiber (*.db )\n",
      "Microsoft Text Driver (*.txt; *.csv)\n",
      "Microsoft Text-Treiber (*.txt; *.csv)\n",
      "SQL Server\n",
      "SQL Server Native Client 11.0\n",
      "ODBC Driver 13 for SQL Server\n",
      "ODBC Driver 17 for SQL Server\n"
     ]
    }
   ],
   "source": [
    "# Loop through all the drivers we have available in pyodbc\n",
    "for drivers in pyodbc.drivers():\n",
    "    print(drivers)"
   ]
  },
  {
   "cell_type": "markdown",
   "metadata": {},
   "source": [
    "## Define SQL Connection String"
   ]
  },
  {
   "cell_type": "code",
   "execution_count": 4,
   "metadata": {},
   "outputs": [],
   "source": [
    "# Define server and database \n",
    "server = 'DESKTOP-VILFN01\\MSSQLSERVER01'\n",
    "database = 'E-Commerce'\n",
    "\n",
    "# define connection string\n",
    "sql_con = pyodbc.connect('DRIVER={ODBC Driver 17 for SQL Server}; \\\n",
    "                       SERVER='+ server +'; \\\n",
    "                       DATABASE='+ database +';\\\n",
    "                       Trusted_Connection=yes;')\n",
    "\n"
   ]
  },
  {
   "cell_type": "markdown",
   "metadata": {},
   "source": [
    "## Load Orders Data in SQL"
   ]
  },
  {
   "cell_type": "code",
   "execution_count": 5,
   "metadata": {},
   "outputs": [
    {
     "data": {
      "text/html": [
       "<div>\n",
       "<style scoped>\n",
       "    .dataframe tbody tr th:only-of-type {\n",
       "        vertical-align: middle;\n",
       "    }\n",
       "\n",
       "    .dataframe tbody tr th {\n",
       "        vertical-align: top;\n",
       "    }\n",
       "\n",
       "    .dataframe thead th {\n",
       "        text-align: right;\n",
       "    }\n",
       "</style>\n",
       "<table border=\"1\" class=\"dataframe\">\n",
       "  <thead>\n",
       "    <tr style=\"text-align: right;\">\n",
       "      <th></th>\n",
       "      <th>Unnamed: 0</th>\n",
       "      <th>order_id</th>\n",
       "      <th>cust_id</th>\n",
       "      <th>total_price</th>\n",
       "      <th>created_at</th>\n",
       "      <th>line_item_id</th>\n",
       "      <th>orders_day</th>\n",
       "      <th>orders_date</th>\n",
       "    </tr>\n",
       "  </thead>\n",
       "  <tbody>\n",
       "    <tr>\n",
       "      <th>0</th>\n",
       "      <td>0</td>\n",
       "      <td>8369263756632563</td>\n",
       "      <td>47178</td>\n",
       "      <td>79.39</td>\n",
       "      <td>2020-03-07 14:31:11</td>\n",
       "      <td>610448</td>\n",
       "      <td>Saturday</td>\n",
       "      <td>2020-03-07</td>\n",
       "    </tr>\n",
       "    <tr>\n",
       "      <th>1</th>\n",
       "      <td>1</td>\n",
       "      <td>8369263756632563</td>\n",
       "      <td>47178</td>\n",
       "      <td>79.39</td>\n",
       "      <td>2020-03-07 14:31:11</td>\n",
       "      <td>997208</td>\n",
       "      <td>Saturday</td>\n",
       "      <td>2020-03-07</td>\n",
       "    </tr>\n",
       "    <tr>\n",
       "      <th>2</th>\n",
       "      <td>2</td>\n",
       "      <td>7262170348080494</td>\n",
       "      <td>94720</td>\n",
       "      <td>86.98</td>\n",
       "      <td>2020-03-01 09:16:30</td>\n",
       "      <td>997208</td>\n",
       "      <td>Sunday</td>\n",
       "      <td>2020-03-01</td>\n",
       "    </tr>\n",
       "    <tr>\n",
       "      <th>3</th>\n",
       "      <td>3</td>\n",
       "      <td>7262170348080494</td>\n",
       "      <td>94720</td>\n",
       "      <td>86.98</td>\n",
       "      <td>2020-03-01 09:16:30</td>\n",
       "      <td>759658</td>\n",
       "      <td>Sunday</td>\n",
       "      <td>2020-03-01</td>\n",
       "    </tr>\n",
       "    <tr>\n",
       "      <th>4</th>\n",
       "      <td>4</td>\n",
       "      <td>7722055557038194</td>\n",
       "      <td>59933</td>\n",
       "      <td>36.99</td>\n",
       "      <td>2020-01-01 09:17:03</td>\n",
       "      <td>759658</td>\n",
       "      <td>Wednesday</td>\n",
       "      <td>2020-01-01</td>\n",
       "    </tr>\n",
       "  </tbody>\n",
       "</table>\n",
       "</div>"
      ],
      "text/plain": [
       "   Unnamed: 0          order_id  cust_id  total_price           created_at  \\\n",
       "0           0  8369263756632563    47178        79.39  2020-03-07 14:31:11   \n",
       "1           1  8369263756632563    47178        79.39  2020-03-07 14:31:11   \n",
       "2           2  7262170348080494    94720        86.98  2020-03-01 09:16:30   \n",
       "3           3  7262170348080494    94720        86.98  2020-03-01 09:16:30   \n",
       "4           4  7722055557038194    59933        36.99  2020-01-01 09:17:03   \n",
       "\n",
       "   line_item_id orders_day orders_date  \n",
       "0        610448   Saturday  2020-03-07  \n",
       "1        997208   Saturday  2020-03-07  \n",
       "2        997208     Sunday  2020-03-01  \n",
       "3        759658     Sunday  2020-03-01  \n",
       "4        759658  Wednesday  2020-01-01  "
      ]
     },
     "execution_count": 5,
     "metadata": {},
     "output_type": "execute_result"
    }
   ],
   "source": [
    "df_orders.rename(columns={'id' : 'order_id'}, inplace=True)\n",
    "df_orders.head()"
   ]
  },
  {
   "cell_type": "code",
   "execution_count": 6,
   "metadata": {},
   "outputs": [
    {
     "data": {
      "text/plain": [
       "Index(['Unnamed: 0', 'order_id', 'cust_id', 'total_price', 'created_at',\n",
       "       'line_item_id', 'orders_day', 'orders_date'],\n",
       "      dtype='object')"
      ]
     },
     "execution_count": 6,
     "metadata": {},
     "output_type": "execute_result"
    }
   ],
   "source": [
    "df_orders.columns"
   ]
  },
  {
   "cell_type": "code",
   "execution_count": 7,
   "metadata": {},
   "outputs": [],
   "source": [
    "df_orders.drop_duplicates (subset=None, keep= 'first', inplace=True)"
   ]
  },
  {
   "cell_type": "code",
   "execution_count": 8,
   "metadata": {},
   "outputs": [
    {
     "data": {
      "text/plain": [
       "(37, 8)"
      ]
     },
     "execution_count": 8,
     "metadata": {},
     "output_type": "execute_result"
    }
   ],
   "source": [
    "df_orders.shape"
   ]
  },
  {
   "cell_type": "code",
   "execution_count": 9,
   "metadata": {},
   "outputs": [],
   "source": [
    "df_orders.to_csv(\"orders.csv\")"
   ]
  },
  {
   "cell_type": "code",
   "execution_count": 157,
   "metadata": {},
   "outputs": [],
   "source": [
    "# Create orders table\n",
    "cursor = sql_con.cursor()\n",
    "sql_con.execute('CREATE TABLE orders (order_id varchar(30) not null, cust_id int, total_price float, created_at datetime, line_item_id int,orders_day varchar(10), orders_date date)')\n",
    "sql_con.commit()\n",
    "cursor.close()"
   ]
  },
  {
   "cell_type": "code",
   "execution_count": 158,
   "metadata": {},
   "outputs": [],
   "source": [
    "# Insert data into orders table in sql\n",
    "cursor = sql_con.cursor()\n",
    "\n",
    "# loop through to insert each row.\n",
    "for order_id,cust_id,total_price,created_at, line_item_id,orders_day,orders_date in zip(df_orders['order_id'],df_orders['cust_id'],df_orders['total_price'],df_orders['created_at'],df_orders['line_item_id'],df_orders['orders_day'],df_orders['orders_date']):\n",
    "    \n",
    "    # define an insert query with place holders for the values.\n",
    "    insert_query = '''INSERT INTO orders \n",
    "                      VALUES (?, ?, ?, ?, ?, ?,?);'''\n",
    "    \n",
    "    # define the values\n",
    "    values = (order_id,cust_id,total_price,created_at, line_item_id,orders_day, orders_date)\n",
    "    #print(insert_query, values)\n",
    "    \n",
    "    # insert the data into the database\n",
    "    cursor.execute(insert_query, values)\n",
    "\n",
    "# Close the cursor\n",
    "cursor.close()"
   ]
  },
  {
   "cell_type": "code",
   "execution_count": 159,
   "metadata": {},
   "outputs": [
    {
     "name": "stdout",
     "output_type": "stream",
     "text": [
      "(37, )\n",
      "(37, 7)\n"
     ]
    }
   ],
   "source": [
    "# grab all the rows from the table\n",
    "cursor = sql_con.cursor()\n",
    "cursor.execute('SELECT Count(1) FROM orders')\n",
    "for row in cursor:\n",
    "    print(row)\n",
    "\n",
    "# Records in orders dataframe\n",
    "print(df_orders.shape)\n",
    "# close the cursor and connection  \n",
    "cursor.close()"
   ]
  },
  {
   "cell_type": "markdown",
   "metadata": {},
   "source": [
    "## Load Customers Data in SQL"
   ]
  },
  {
   "cell_type": "code",
   "execution_count": 161,
   "metadata": {},
   "outputs": [
    {
     "data": {
      "text/html": [
       "<div>\n",
       "<style scoped>\n",
       "    .dataframe tbody tr th:only-of-type {\n",
       "        vertical-align: middle;\n",
       "    }\n",
       "\n",
       "    .dataframe tbody tr th {\n",
       "        vertical-align: top;\n",
       "    }\n",
       "\n",
       "    .dataframe thead th {\n",
       "        text-align: right;\n",
       "    }\n",
       "</style>\n",
       "<table border=\"1\" class=\"dataframe\">\n",
       "  <thead>\n",
       "    <tr style=\"text-align: right;\">\n",
       "      <th></th>\n",
       "      <th>cust_id</th>\n",
       "      <th>cust_name</th>\n",
       "      <th>cust_email</th>\n",
       "    </tr>\n",
       "  </thead>\n",
       "  <tbody>\n",
       "    <tr>\n",
       "      <th>0</th>\n",
       "      <td>47178</td>\n",
       "      <td>William Doe</td>\n",
       "      <td>william.doe@gmail.com</td>\n",
       "    </tr>\n",
       "    <tr>\n",
       "      <th>1</th>\n",
       "      <td>94720</td>\n",
       "      <td>Emile Tumson</td>\n",
       "      <td>emile.tumson@gmail.com</td>\n",
       "    </tr>\n",
       "    <tr>\n",
       "      <th>2</th>\n",
       "      <td>59933</td>\n",
       "      <td>Ethan Jones</td>\n",
       "      <td>ethan.jones@gmail.com</td>\n",
       "    </tr>\n",
       "    <tr>\n",
       "      <th>3</th>\n",
       "      <td>23955</td>\n",
       "      <td>Daniel Smith</td>\n",
       "      <td>daniel.smith@gmail.com</td>\n",
       "    </tr>\n",
       "    <tr>\n",
       "      <th>4</th>\n",
       "      <td>59933</td>\n",
       "      <td>Ethan Jones</td>\n",
       "      <td>ethan.jones@gmail.com</td>\n",
       "    </tr>\n",
       "  </tbody>\n",
       "</table>\n",
       "</div>"
      ],
      "text/plain": [
       "   cust_id     cust_name              cust_email\n",
       "0    47178   William Doe   william.doe@gmail.com\n",
       "1    94720  Emile Tumson  emile.tumson@gmail.com\n",
       "2    59933   Ethan Jones   ethan.jones@gmail.com\n",
       "3    23955  Daniel Smith  daniel.smith@gmail.com\n",
       "4    59933   Ethan Jones   ethan.jones@gmail.com"
      ]
     },
     "execution_count": 161,
     "metadata": {},
     "output_type": "execute_result"
    }
   ],
   "source": [
    "df_cust.head()"
   ]
  },
  {
   "cell_type": "code",
   "execution_count": 162,
   "metadata": {},
   "outputs": [
    {
     "data": {
      "text/plain": [
       "59933    6\n",
       "23955    5\n",
       "94720    5\n",
       "47178    4\n",
       "Name: cust_id, dtype: int64"
      ]
     },
     "execution_count": 162,
     "metadata": {},
     "output_type": "execute_result"
    }
   ],
   "source": [
    "df_cust['cust_id'].value_counts()"
   ]
  },
  {
   "cell_type": "code",
   "execution_count": 163,
   "metadata": {},
   "outputs": [
    {
     "data": {
      "text/plain": [
       "(20, 3)"
      ]
     },
     "execution_count": 163,
     "metadata": {},
     "output_type": "execute_result"
    }
   ],
   "source": [
    "df_cust.shape"
   ]
  },
  {
   "cell_type": "code",
   "execution_count": 164,
   "metadata": {},
   "outputs": [],
   "source": [
    "df_cust.drop_duplicates (subset=None, keep= 'first', inplace=True)"
   ]
  },
  {
   "cell_type": "code",
   "execution_count": 165,
   "metadata": {},
   "outputs": [
    {
     "data": {
      "text/plain": [
       "(4, 3)"
      ]
     },
     "execution_count": 165,
     "metadata": {},
     "output_type": "execute_result"
    }
   ],
   "source": [
    "df_cust.shape"
   ]
  },
  {
   "cell_type": "code",
   "execution_count": 166,
   "metadata": {},
   "outputs": [
    {
     "data": {
      "text/plain": [
       "59933    1\n",
       "23955    1\n",
       "47178    1\n",
       "94720    1\n",
       "Name: cust_id, dtype: int64"
      ]
     },
     "execution_count": 166,
     "metadata": {},
     "output_type": "execute_result"
    }
   ],
   "source": [
    "df_cust['cust_id'].value_counts()"
   ]
  },
  {
   "cell_type": "code",
   "execution_count": 167,
   "metadata": {},
   "outputs": [
    {
     "data": {
      "text/plain": [
       "array(['william.doe@gmail.com', 'emile.tumson@gmail.com',\n",
       "       'ethan.jones@gmail.com', 'daniel.smith@gmail.com'], dtype=object)"
      ]
     },
     "execution_count": 167,
     "metadata": {},
     "output_type": "execute_result"
    }
   ],
   "source": [
    "df_cust['cust_email'].unique()"
   ]
  },
  {
   "cell_type": "code",
   "execution_count": 192,
   "metadata": {},
   "outputs": [],
   "source": [
    "df_cust.to_csv(\"customers.csv\")"
   ]
  },
  {
   "cell_type": "code",
   "execution_count": 204,
   "metadata": {},
   "outputs": [
    {
     "ename": "ProgrammingError",
     "evalue": "Attempt to use a closed connection.",
     "output_type": "error",
     "traceback": [
      "\u001b[1;31m---------------------------------------------------------------------------\u001b[0m",
      "\u001b[1;31mProgrammingError\u001b[0m                          Traceback (most recent call last)",
      "\u001b[1;32m<ipython-input-204-de6dfc0664bd>\u001b[0m in \u001b[0;36m<module>\u001b[1;34m\u001b[0m\n\u001b[0;32m      1\u001b[0m \u001b[1;31m# Create Customers table in SQL\u001b[0m\u001b[1;33m\u001b[0m\u001b[1;33m\u001b[0m\u001b[1;33m\u001b[0m\u001b[0m\n\u001b[1;32m----> 2\u001b[1;33m \u001b[0mcursor\u001b[0m \u001b[1;33m=\u001b[0m \u001b[0msql_con\u001b[0m\u001b[1;33m.\u001b[0m\u001b[0mcursor\u001b[0m\u001b[1;33m(\u001b[0m\u001b[1;33m)\u001b[0m\u001b[1;33m\u001b[0m\u001b[1;33m\u001b[0m\u001b[0m\n\u001b[0m\u001b[0;32m      3\u001b[0m \u001b[0msql_con\u001b[0m\u001b[1;33m.\u001b[0m\u001b[0mexecute\u001b[0m\u001b[1;33m(\u001b[0m\u001b[1;34m'CREATE TABLE customers (cust_id int primary key, cust_name varchar(100), cust_email varchar(255))'\u001b[0m\u001b[1;33m)\u001b[0m\u001b[1;33m\u001b[0m\u001b[1;33m\u001b[0m\u001b[0m\n\u001b[0;32m      4\u001b[0m \u001b[0msql_con\u001b[0m\u001b[1;33m.\u001b[0m\u001b[0mcommit\u001b[0m\u001b[1;33m(\u001b[0m\u001b[1;33m)\u001b[0m\u001b[1;33m\u001b[0m\u001b[1;33m\u001b[0m\u001b[0m\n\u001b[0;32m      5\u001b[0m \u001b[0mcursor\u001b[0m\u001b[1;33m.\u001b[0m\u001b[0mclose\u001b[0m\u001b[1;33m(\u001b[0m\u001b[1;33m)\u001b[0m\u001b[1;33m\u001b[0m\u001b[1;33m\u001b[0m\u001b[0m\n",
      "\u001b[1;31mProgrammingError\u001b[0m: Attempt to use a closed connection."
     ]
    }
   ],
   "source": [
    "# Create Customers table in SQL\n",
    "cursor = sql_con.cursor()\n",
    "sql_con.execute('CREATE TABLE customers (cust_id int primary key, cust_name varchar(100), cust_email varchar(255))')\n",
    "sql_con.commit()\n",
    "cursor.close()"
   ]
  },
  {
   "cell_type": "code",
   "execution_count": 169,
   "metadata": {},
   "outputs": [],
   "source": [
    "# Insert data into customers table in sql\n",
    "cursor = sql_con.cursor()\n",
    "\n",
    "# loop through to insert each row.\n",
    "for cust_id,cust_name,cust_email in zip(df_cust['cust_id'],df_cust['cust_name'],df_cust['cust_email']):\n",
    "    \n",
    "    # define an insert query with place holders for the values.\n",
    "    insert_query = '''INSERT INTO customers \n",
    "                      VALUES (?, ?, ?);'''\n",
    "    \n",
    "    # define the values\n",
    "    values = (cust_id,cust_name,cust_email)\n",
    "    #print(insert_query, values)\n",
    "    \n",
    "    # insert the data into the database\n",
    "    cursor.execute(insert_query, values)\n",
    "\n",
    "# Close the cursor\n",
    "cursor.close()"
   ]
  },
  {
   "cell_type": "code",
   "execution_count": 170,
   "metadata": {},
   "outputs": [
    {
     "name": "stdout",
     "output_type": "stream",
     "text": [
      "(4, )\n",
      "(4, 3)\n"
     ]
    }
   ],
   "source": [
    "# grab all the rows from the table\n",
    "cursor = sql_con.cursor()\n",
    "cursor.execute('SELECT Count(1) FROM customers')\n",
    "for row in cursor:\n",
    "    print(row)\n",
    "\n",
    "# Records in orders dataframe\n",
    "print(df_cust.shape)\n",
    "# close the cursor and connection  \n",
    "cursor.close()"
   ]
  },
  {
   "cell_type": "markdown",
   "metadata": {},
   "source": [
    "## Load Line Items Data in SQL"
   ]
  },
  {
   "cell_type": "code",
   "execution_count": 171,
   "metadata": {},
   "outputs": [
    {
     "data": {
      "text/plain": [
       "(37, 5)"
      ]
     },
     "execution_count": 171,
     "metadata": {},
     "output_type": "execute_result"
    }
   ],
   "source": [
    "df_line_items.shape"
   ]
  },
  {
   "cell_type": "code",
   "execution_count": 172,
   "metadata": {},
   "outputs": [
    {
     "data": {
      "text/html": [
       "<div>\n",
       "<style scoped>\n",
       "    .dataframe tbody tr th:only-of-type {\n",
       "        vertical-align: middle;\n",
       "    }\n",
       "\n",
       "    .dataframe tbody tr th {\n",
       "        vertical-align: top;\n",
       "    }\n",
       "\n",
       "    .dataframe thead th {\n",
       "        text-align: right;\n",
       "    }\n",
       "</style>\n",
       "<table border=\"1\" class=\"dataframe\">\n",
       "  <thead>\n",
       "    <tr style=\"text-align: right;\">\n",
       "      <th></th>\n",
       "      <th>line_item_id</th>\n",
       "      <th>product_id</th>\n",
       "      <th>product_sku</th>\n",
       "      <th>product_name</th>\n",
       "      <th>product_price</th>\n",
       "    </tr>\n",
       "  </thead>\n",
       "  <tbody>\n",
       "    <tr>\n",
       "      <th>0</th>\n",
       "      <td>610448</td>\n",
       "      <td>632910392</td>\n",
       "      <td>PPLEPUNCH20-05</td>\n",
       "      <td>Purple Punch 2.0 Dried Flower</td>\n",
       "      <td>29.40</td>\n",
       "    </tr>\n",
       "    <tr>\n",
       "      <th>1</th>\n",
       "      <td>997208</td>\n",
       "      <td>278266679</td>\n",
       "      <td>GPSTASH-01</td>\n",
       "      <td>Grandpa's Stash Dried Flower</td>\n",
       "      <td>49.99</td>\n",
       "    </tr>\n",
       "    <tr>\n",
       "      <th>2</th>\n",
       "      <td>997208</td>\n",
       "      <td>278266679</td>\n",
       "      <td>GPSTASH-01</td>\n",
       "      <td>Grandpa's Stash Dried Flower</td>\n",
       "      <td>49.99</td>\n",
       "    </tr>\n",
       "    <tr>\n",
       "      <th>3</th>\n",
       "      <td>759658</td>\n",
       "      <td>573794972</td>\n",
       "      <td>SAGENSOUR-01</td>\n",
       "      <td>Sage N Sour Dried Flower</td>\n",
       "      <td>36.99</td>\n",
       "    </tr>\n",
       "    <tr>\n",
       "      <th>4</th>\n",
       "      <td>759658</td>\n",
       "      <td>573794972</td>\n",
       "      <td>SAGENSOUR-01</td>\n",
       "      <td>Sage N Sour Dried Flower</td>\n",
       "      <td>36.99</td>\n",
       "    </tr>\n",
       "    <tr>\n",
       "      <th>5</th>\n",
       "      <td>317808</td>\n",
       "      <td>477365777</td>\n",
       "      <td>GOGPR-07</td>\n",
       "      <td>Glueberry OG Pre-Rolls</td>\n",
       "      <td>5.99</td>\n",
       "    </tr>\n",
       "    <tr>\n",
       "      <th>6</th>\n",
       "      <td>771854</td>\n",
       "      <td>694165761</td>\n",
       "      <td>HYBTINC-03</td>\n",
       "      <td>Hybrid Blend THC Tincture</td>\n",
       "      <td>49.99</td>\n",
       "    </tr>\n",
       "    <tr>\n",
       "      <th>7</th>\n",
       "      <td>604665</td>\n",
       "      <td>510650809</td>\n",
       "      <td>PAX-3</td>\n",
       "      <td>Pax 3 Vaporizer</td>\n",
       "      <td>259.99</td>\n",
       "    </tr>\n",
       "    <tr>\n",
       "      <th>8</th>\n",
       "      <td>997208</td>\n",
       "      <td>278266679</td>\n",
       "      <td>GPSTASH-01</td>\n",
       "      <td>Grandpa's Stash Dried Flower</td>\n",
       "      <td>49.99</td>\n",
       "    </tr>\n",
       "    <tr>\n",
       "      <th>9</th>\n",
       "      <td>997208</td>\n",
       "      <td>278266679</td>\n",
       "      <td>GPSTASH-01</td>\n",
       "      <td>Grandpa's Stash Dried Flower</td>\n",
       "      <td>49.99</td>\n",
       "    </tr>\n",
       "    <tr>\n",
       "      <th>10</th>\n",
       "      <td>317808</td>\n",
       "      <td>477365777</td>\n",
       "      <td>GOGPR-07</td>\n",
       "      <td>Glueberry OG Pre-Rolls</td>\n",
       "      <td>5.99</td>\n",
       "    </tr>\n",
       "    <tr>\n",
       "      <th>11</th>\n",
       "      <td>604665</td>\n",
       "      <td>510650809</td>\n",
       "      <td>PAX-3</td>\n",
       "      <td>Pax 3 Vaporizer</td>\n",
       "      <td>259.99</td>\n",
       "    </tr>\n",
       "    <tr>\n",
       "      <th>12</th>\n",
       "      <td>759658</td>\n",
       "      <td>573794972</td>\n",
       "      <td>SAGENSOUR-01</td>\n",
       "      <td>Sage N Sour Dried Flower</td>\n",
       "      <td>36.99</td>\n",
       "    </tr>\n",
       "    <tr>\n",
       "      <th>13</th>\n",
       "      <td>317808</td>\n",
       "      <td>477365777</td>\n",
       "      <td>GOGPR-07</td>\n",
       "      <td>Glueberry OG Pre-Rolls</td>\n",
       "      <td>5.99</td>\n",
       "    </tr>\n",
       "    <tr>\n",
       "      <th>14</th>\n",
       "      <td>771854</td>\n",
       "      <td>694165761</td>\n",
       "      <td>HYBTINC-03</td>\n",
       "      <td>Hybrid Blend THC Tincture</td>\n",
       "      <td>49.99</td>\n",
       "    </tr>\n",
       "    <tr>\n",
       "      <th>15</th>\n",
       "      <td>604665</td>\n",
       "      <td>510650809</td>\n",
       "      <td>PAX-3</td>\n",
       "      <td>Pax 3 Vaporizer</td>\n",
       "      <td>259.99</td>\n",
       "    </tr>\n",
       "    <tr>\n",
       "      <th>16</th>\n",
       "      <td>997208</td>\n",
       "      <td>278266679</td>\n",
       "      <td>GPSTASH-01</td>\n",
       "      <td>Grandpa's Stash Dried Flower</td>\n",
       "      <td>49.99</td>\n",
       "    </tr>\n",
       "    <tr>\n",
       "      <th>17</th>\n",
       "      <td>317808</td>\n",
       "      <td>477365777</td>\n",
       "      <td>GOGPR-07</td>\n",
       "      <td>Glueberry OG Pre-Rolls</td>\n",
       "      <td>5.99</td>\n",
       "    </tr>\n",
       "    <tr>\n",
       "      <th>18</th>\n",
       "      <td>610448</td>\n",
       "      <td>632910392</td>\n",
       "      <td>PPLEPUNCH20-05</td>\n",
       "      <td>Purple Punch 2.0 Dried Flower</td>\n",
       "      <td>29.40</td>\n",
       "    </tr>\n",
       "    <tr>\n",
       "      <th>19</th>\n",
       "      <td>997208</td>\n",
       "      <td>278266679</td>\n",
       "      <td>GPSTASH-01</td>\n",
       "      <td>Grandpa's Stash Dried Flower</td>\n",
       "      <td>49.99</td>\n",
       "    </tr>\n",
       "    <tr>\n",
       "      <th>20</th>\n",
       "      <td>759658</td>\n",
       "      <td>573794972</td>\n",
       "      <td>SAGENSOUR-01</td>\n",
       "      <td>Sage N Sour Dried Flower</td>\n",
       "      <td>36.99</td>\n",
       "    </tr>\n",
       "    <tr>\n",
       "      <th>21</th>\n",
       "      <td>317808</td>\n",
       "      <td>477365777</td>\n",
       "      <td>GOGPR-07</td>\n",
       "      <td>Glueberry OG Pre-Rolls</td>\n",
       "      <td>5.99</td>\n",
       "    </tr>\n",
       "    <tr>\n",
       "      <th>22</th>\n",
       "      <td>604665</td>\n",
       "      <td>510650809</td>\n",
       "      <td>PAX-3</td>\n",
       "      <td>Pax 3 Vaporizer</td>\n",
       "      <td>259.99</td>\n",
       "    </tr>\n",
       "    <tr>\n",
       "      <th>23</th>\n",
       "      <td>771854</td>\n",
       "      <td>694165761</td>\n",
       "      <td>HYBTINC-03</td>\n",
       "      <td>Hybrid Blend THC Tincture</td>\n",
       "      <td>49.99</td>\n",
       "    </tr>\n",
       "    <tr>\n",
       "      <th>24</th>\n",
       "      <td>610448</td>\n",
       "      <td>632910392</td>\n",
       "      <td>PPLEPUNCH20-05</td>\n",
       "      <td>Purple Punch 2.0 Dried Flower</td>\n",
       "      <td>29.40</td>\n",
       "    </tr>\n",
       "    <tr>\n",
       "      <th>25</th>\n",
       "      <td>997208</td>\n",
       "      <td>278266679</td>\n",
       "      <td>GPSTASH-01</td>\n",
       "      <td>Grandpa's Stash Dried Flower</td>\n",
       "      <td>49.99</td>\n",
       "    </tr>\n",
       "    <tr>\n",
       "      <th>26</th>\n",
       "      <td>317808</td>\n",
       "      <td>477365777</td>\n",
       "      <td>GOGPR-07</td>\n",
       "      <td>Glueberry OG Pre-Rolls</td>\n",
       "      <td>5.99</td>\n",
       "    </tr>\n",
       "    <tr>\n",
       "      <th>27</th>\n",
       "      <td>759658</td>\n",
       "      <td>573794972</td>\n",
       "      <td>SAGENSOUR-01</td>\n",
       "      <td>Sage N Sour Dried Flower</td>\n",
       "      <td>36.99</td>\n",
       "    </tr>\n",
       "    <tr>\n",
       "      <th>28</th>\n",
       "      <td>771854</td>\n",
       "      <td>694165761</td>\n",
       "      <td>HYBTINC-03</td>\n",
       "      <td>Hybrid Blend THC Tincture</td>\n",
       "      <td>49.99</td>\n",
       "    </tr>\n",
       "    <tr>\n",
       "      <th>29</th>\n",
       "      <td>317808</td>\n",
       "      <td>477365777</td>\n",
       "      <td>GOGPR-07</td>\n",
       "      <td>Glueberry OG Pre-Rolls</td>\n",
       "      <td>5.99</td>\n",
       "    </tr>\n",
       "    <tr>\n",
       "      <th>30</th>\n",
       "      <td>610448</td>\n",
       "      <td>632910392</td>\n",
       "      <td>PPLEPUNCH20-05</td>\n",
       "      <td>Purple Punch 2.0 Dried Flower</td>\n",
       "      <td>29.40</td>\n",
       "    </tr>\n",
       "    <tr>\n",
       "      <th>31</th>\n",
       "      <td>997208</td>\n",
       "      <td>278266679</td>\n",
       "      <td>GPSTASH-01</td>\n",
       "      <td>Grandpa's Stash Dried Flower</td>\n",
       "      <td>49.99</td>\n",
       "    </tr>\n",
       "    <tr>\n",
       "      <th>32</th>\n",
       "      <td>759658</td>\n",
       "      <td>573794972</td>\n",
       "      <td>SAGENSOUR-01</td>\n",
       "      <td>Sage N Sour Dried Flower</td>\n",
       "      <td>36.99</td>\n",
       "    </tr>\n",
       "    <tr>\n",
       "      <th>33</th>\n",
       "      <td>997208</td>\n",
       "      <td>278266679</td>\n",
       "      <td>GPSTASH-01</td>\n",
       "      <td>Grandpa's Stash Dried Flower</td>\n",
       "      <td>49.99</td>\n",
       "    </tr>\n",
       "    <tr>\n",
       "      <th>34</th>\n",
       "      <td>759658</td>\n",
       "      <td>573794972</td>\n",
       "      <td>SAGENSOUR-01</td>\n",
       "      <td>Sage N Sour Dried Flower</td>\n",
       "      <td>36.99</td>\n",
       "    </tr>\n",
       "    <tr>\n",
       "      <th>35</th>\n",
       "      <td>317808</td>\n",
       "      <td>477365777</td>\n",
       "      <td>GOGPR-07</td>\n",
       "      <td>Glueberry OG Pre-Rolls</td>\n",
       "      <td>5.99</td>\n",
       "    </tr>\n",
       "    <tr>\n",
       "      <th>36</th>\n",
       "      <td>771854</td>\n",
       "      <td>694165761</td>\n",
       "      <td>HYBTINC-03</td>\n",
       "      <td>Hybrid Blend THC Tincture</td>\n",
       "      <td>49.99</td>\n",
       "    </tr>\n",
       "  </tbody>\n",
       "</table>\n",
       "</div>"
      ],
      "text/plain": [
       "    line_item_id  product_id     product_sku                   product_name  \\\n",
       "0         610448   632910392  PPLEPUNCH20-05  Purple Punch 2.0 Dried Flower   \n",
       "1         997208   278266679      GPSTASH-01   Grandpa's Stash Dried Flower   \n",
       "2         997208   278266679      GPSTASH-01   Grandpa's Stash Dried Flower   \n",
       "3         759658   573794972    SAGENSOUR-01       Sage N Sour Dried Flower   \n",
       "4         759658   573794972    SAGENSOUR-01       Sage N Sour Dried Flower   \n",
       "5         317808   477365777        GOGPR-07         Glueberry OG Pre-Rolls   \n",
       "6         771854   694165761      HYBTINC-03      Hybrid Blend THC Tincture   \n",
       "7         604665   510650809           PAX-3                Pax 3 Vaporizer   \n",
       "8         997208   278266679      GPSTASH-01   Grandpa's Stash Dried Flower   \n",
       "9         997208   278266679      GPSTASH-01   Grandpa's Stash Dried Flower   \n",
       "10        317808   477365777        GOGPR-07         Glueberry OG Pre-Rolls   \n",
       "11        604665   510650809           PAX-3                Pax 3 Vaporizer   \n",
       "12        759658   573794972    SAGENSOUR-01       Sage N Sour Dried Flower   \n",
       "13        317808   477365777        GOGPR-07         Glueberry OG Pre-Rolls   \n",
       "14        771854   694165761      HYBTINC-03      Hybrid Blend THC Tincture   \n",
       "15        604665   510650809           PAX-3                Pax 3 Vaporizer   \n",
       "16        997208   278266679      GPSTASH-01   Grandpa's Stash Dried Flower   \n",
       "17        317808   477365777        GOGPR-07         Glueberry OG Pre-Rolls   \n",
       "18        610448   632910392  PPLEPUNCH20-05  Purple Punch 2.0 Dried Flower   \n",
       "19        997208   278266679      GPSTASH-01   Grandpa's Stash Dried Flower   \n",
       "20        759658   573794972    SAGENSOUR-01       Sage N Sour Dried Flower   \n",
       "21        317808   477365777        GOGPR-07         Glueberry OG Pre-Rolls   \n",
       "22        604665   510650809           PAX-3                Pax 3 Vaporizer   \n",
       "23        771854   694165761      HYBTINC-03      Hybrid Blend THC Tincture   \n",
       "24        610448   632910392  PPLEPUNCH20-05  Purple Punch 2.0 Dried Flower   \n",
       "25        997208   278266679      GPSTASH-01   Grandpa's Stash Dried Flower   \n",
       "26        317808   477365777        GOGPR-07         Glueberry OG Pre-Rolls   \n",
       "27        759658   573794972    SAGENSOUR-01       Sage N Sour Dried Flower   \n",
       "28        771854   694165761      HYBTINC-03      Hybrid Blend THC Tincture   \n",
       "29        317808   477365777        GOGPR-07         Glueberry OG Pre-Rolls   \n",
       "30        610448   632910392  PPLEPUNCH20-05  Purple Punch 2.0 Dried Flower   \n",
       "31        997208   278266679      GPSTASH-01   Grandpa's Stash Dried Flower   \n",
       "32        759658   573794972    SAGENSOUR-01       Sage N Sour Dried Flower   \n",
       "33        997208   278266679      GPSTASH-01   Grandpa's Stash Dried Flower   \n",
       "34        759658   573794972    SAGENSOUR-01       Sage N Sour Dried Flower   \n",
       "35        317808   477365777        GOGPR-07         Glueberry OG Pre-Rolls   \n",
       "36        771854   694165761      HYBTINC-03      Hybrid Blend THC Tincture   \n",
       "\n",
       "    product_price  \n",
       "0           29.40  \n",
       "1           49.99  \n",
       "2           49.99  \n",
       "3           36.99  \n",
       "4           36.99  \n",
       "5            5.99  \n",
       "6           49.99  \n",
       "7          259.99  \n",
       "8           49.99  \n",
       "9           49.99  \n",
       "10           5.99  \n",
       "11         259.99  \n",
       "12          36.99  \n",
       "13           5.99  \n",
       "14          49.99  \n",
       "15         259.99  \n",
       "16          49.99  \n",
       "17           5.99  \n",
       "18          29.40  \n",
       "19          49.99  \n",
       "20          36.99  \n",
       "21           5.99  \n",
       "22         259.99  \n",
       "23          49.99  \n",
       "24          29.40  \n",
       "25          49.99  \n",
       "26           5.99  \n",
       "27          36.99  \n",
       "28          49.99  \n",
       "29           5.99  \n",
       "30          29.40  \n",
       "31          49.99  \n",
       "32          36.99  \n",
       "33          49.99  \n",
       "34          36.99  \n",
       "35           5.99  \n",
       "36          49.99  "
      ]
     },
     "execution_count": 172,
     "metadata": {},
     "output_type": "execute_result"
    }
   ],
   "source": [
    "df_line_items"
   ]
  },
  {
   "cell_type": "code",
   "execution_count": 173,
   "metadata": {},
   "outputs": [],
   "source": [
    "df_line_items.drop_duplicates (subset=None, keep= 'first', inplace=True)"
   ]
  },
  {
   "cell_type": "code",
   "execution_count": 174,
   "metadata": {},
   "outputs": [
    {
     "data": {
      "text/plain": [
       "(6, 5)"
      ]
     },
     "execution_count": 174,
     "metadata": {},
     "output_type": "execute_result"
    }
   ],
   "source": [
    "df_line_items.shape"
   ]
  },
  {
   "cell_type": "code",
   "execution_count": 194,
   "metadata": {},
   "outputs": [],
   "source": [
    "df_line_items.to_csv(\"line_items.csv\")"
   ]
  },
  {
   "cell_type": "code",
   "execution_count": 195,
   "metadata": {},
   "outputs": [
    {
     "data": {
      "text/html": [
       "<div>\n",
       "<style scoped>\n",
       "    .dataframe tbody tr th:only-of-type {\n",
       "        vertical-align: middle;\n",
       "    }\n",
       "\n",
       "    .dataframe tbody tr th {\n",
       "        vertical-align: top;\n",
       "    }\n",
       "\n",
       "    .dataframe thead th {\n",
       "        text-align: right;\n",
       "    }\n",
       "</style>\n",
       "<table border=\"1\" class=\"dataframe\">\n",
       "  <thead>\n",
       "    <tr style=\"text-align: right;\">\n",
       "      <th></th>\n",
       "      <th>line_item_id</th>\n",
       "      <th>product_id</th>\n",
       "      <th>product_sku</th>\n",
       "      <th>product_name</th>\n",
       "      <th>product_price</th>\n",
       "    </tr>\n",
       "  </thead>\n",
       "  <tbody>\n",
       "    <tr>\n",
       "      <th>0</th>\n",
       "      <td>610448</td>\n",
       "      <td>632910392</td>\n",
       "      <td>PPLEPUNCH20-05</td>\n",
       "      <td>Purple Punch 2.0 Dried Flower</td>\n",
       "      <td>29.40</td>\n",
       "    </tr>\n",
       "    <tr>\n",
       "      <th>1</th>\n",
       "      <td>997208</td>\n",
       "      <td>278266679</td>\n",
       "      <td>GPSTASH-01</td>\n",
       "      <td>Grandpa's Stash Dried Flower</td>\n",
       "      <td>49.99</td>\n",
       "    </tr>\n",
       "    <tr>\n",
       "      <th>3</th>\n",
       "      <td>759658</td>\n",
       "      <td>573794972</td>\n",
       "      <td>SAGENSOUR-01</td>\n",
       "      <td>Sage N Sour Dried Flower</td>\n",
       "      <td>36.99</td>\n",
       "    </tr>\n",
       "    <tr>\n",
       "      <th>5</th>\n",
       "      <td>317808</td>\n",
       "      <td>477365777</td>\n",
       "      <td>GOGPR-07</td>\n",
       "      <td>Glueberry OG Pre-Rolls</td>\n",
       "      <td>5.99</td>\n",
       "    </tr>\n",
       "    <tr>\n",
       "      <th>6</th>\n",
       "      <td>771854</td>\n",
       "      <td>694165761</td>\n",
       "      <td>HYBTINC-03</td>\n",
       "      <td>Hybrid Blend THC Tincture</td>\n",
       "      <td>49.99</td>\n",
       "    </tr>\n",
       "    <tr>\n",
       "      <th>7</th>\n",
       "      <td>604665</td>\n",
       "      <td>510650809</td>\n",
       "      <td>PAX-3</td>\n",
       "      <td>Pax 3 Vaporizer</td>\n",
       "      <td>259.99</td>\n",
       "    </tr>\n",
       "  </tbody>\n",
       "</table>\n",
       "</div>"
      ],
      "text/plain": [
       "   line_item_id  product_id     product_sku                   product_name  \\\n",
       "0        610448   632910392  PPLEPUNCH20-05  Purple Punch 2.0 Dried Flower   \n",
       "1        997208   278266679      GPSTASH-01   Grandpa's Stash Dried Flower   \n",
       "3        759658   573794972    SAGENSOUR-01       Sage N Sour Dried Flower   \n",
       "5        317808   477365777        GOGPR-07         Glueberry OG Pre-Rolls   \n",
       "6        771854   694165761      HYBTINC-03      Hybrid Blend THC Tincture   \n",
       "7        604665   510650809           PAX-3                Pax 3 Vaporizer   \n",
       "\n",
       "   product_price  \n",
       "0          29.40  \n",
       "1          49.99  \n",
       "3          36.99  \n",
       "5           5.99  \n",
       "6          49.99  \n",
       "7         259.99  "
      ]
     },
     "execution_count": 195,
     "metadata": {},
     "output_type": "execute_result"
    }
   ],
   "source": [
    "df_line_items"
   ]
  },
  {
   "cell_type": "code",
   "execution_count": 229,
   "metadata": {},
   "outputs": [
    {
     "ename": "ProgrammingError",
     "evalue": "Attempt to use a closed connection.",
     "output_type": "error",
     "traceback": [
      "\u001b[1;31m---------------------------------------------------------------------------\u001b[0m",
      "\u001b[1;31mProgrammingError\u001b[0m                          Traceback (most recent call last)",
      "\u001b[1;32m<ipython-input-229-f1ba98b03a48>\u001b[0m in \u001b[0;36m<module>\u001b[1;34m\u001b[0m\n\u001b[0;32m      1\u001b[0m \u001b[1;31m# Create Line Items table in SQL\u001b[0m\u001b[1;33m\u001b[0m\u001b[1;33m\u001b[0m\u001b[1;33m\u001b[0m\u001b[0m\n\u001b[1;32m----> 2\u001b[1;33m \u001b[0mcursor\u001b[0m \u001b[1;33m=\u001b[0m \u001b[0msql_con\u001b[0m\u001b[1;33m.\u001b[0m\u001b[0mcursor\u001b[0m\u001b[1;33m(\u001b[0m\u001b[1;33m)\u001b[0m\u001b[1;33m\u001b[0m\u001b[1;33m\u001b[0m\u001b[0m\n\u001b[0m\u001b[0;32m      3\u001b[0m \u001b[0msql_con\u001b[0m\u001b[1;33m.\u001b[0m\u001b[0mexecute\u001b[0m\u001b[1;33m(\u001b[0m\u001b[1;34m'CREATE TABLE line_items (line_item_id int primary key, product_id int not null, product_sku varchar(255), product_name varchar(255), product_price float )'\u001b[0m\u001b[1;33m)\u001b[0m\u001b[1;33m\u001b[0m\u001b[1;33m\u001b[0m\u001b[0m\n\u001b[0;32m      4\u001b[0m \u001b[0msql_con\u001b[0m\u001b[1;33m.\u001b[0m\u001b[0mcommit\u001b[0m\u001b[1;33m(\u001b[0m\u001b[1;33m)\u001b[0m\u001b[1;33m\u001b[0m\u001b[1;33m\u001b[0m\u001b[0m\n\u001b[0;32m      5\u001b[0m \u001b[0mcursor\u001b[0m\u001b[1;33m.\u001b[0m\u001b[0mclose\u001b[0m\u001b[1;33m(\u001b[0m\u001b[1;33m)\u001b[0m\u001b[1;33m\u001b[0m\u001b[1;33m\u001b[0m\u001b[0m\n",
      "\u001b[1;31mProgrammingError\u001b[0m: Attempt to use a closed connection."
     ]
    }
   ],
   "source": [
    "# Create Line Items table in SQL\n",
    "cursor = sql_con.cursor()\n",
    "sql_con.execute('CREATE TABLE line_items (line_item_id int primary key, product_id int not null, product_sku varchar(255), product_name varchar(255), product_price float )')\n",
    "sql_con.commit()\n",
    "cursor.close()"
   ]
  },
  {
   "cell_type": "code",
   "execution_count": 177,
   "metadata": {},
   "outputs": [],
   "source": [
    "# Insert data into line_items table in sql\n",
    "cursor = sql_con.cursor()\n",
    "\n",
    "# loop through to insert each row.\n",
    "for line_item_id, product_id, product_sku, product_name, product_price in zip(df_line_items['line_item_id'],df_line_items['product_id'],df_line_items['product_sku'],df_line_items['product_name'],df_line_items['product_price']):\n",
    "    \n",
    "    # define an insert query with place holders for the values.\n",
    "    insert_query = '''INSERT INTO line_items \n",
    "                      VALUES (?, ?, ?,?,?);'''\n",
    "    \n",
    "    # define the values\n",
    "    values = (line_item_id, product_id, product_sku, product_name, product_price)\n",
    "    #print(insert_query, values)\n",
    "    \n",
    "    # insert the data into the database\n",
    "    cursor.execute(insert_query, values)\n",
    "\n",
    "# Close the cursor\n",
    "cursor.close()"
   ]
  },
  {
   "cell_type": "code",
   "execution_count": 178,
   "metadata": {},
   "outputs": [
    {
     "name": "stdout",
     "output_type": "stream",
     "text": [
      "(6, )\n",
      "(6, 5)\n"
     ]
    }
   ],
   "source": [
    "# grab all the rows from the table\n",
    "cursor = sql_con.cursor()\n",
    "cursor.execute('SELECT Count(1) FROM line_items')\n",
    "for row in cursor:\n",
    "    print(row)\n",
    "\n",
    "# Records in orders dataframe\n",
    "print(df_line_items.shape)\n",
    "# close the cursor and connection  \n",
    "cursor.close()"
   ]
  },
  {
   "cell_type": "markdown",
   "metadata": {},
   "source": [
    "## Load Exchange ratesData in SQL"
   ]
  },
  {
   "cell_type": "code",
   "execution_count": 253,
   "metadata": {},
   "outputs": [
    {
     "data": {
      "text/plain": [
       "(85, 5)"
      ]
     },
     "execution_count": 253,
     "metadata": {},
     "output_type": "execute_result"
    }
   ],
   "source": [
    "df_exch.shape"
   ]
  },
  {
   "cell_type": "code",
   "execution_count": 254,
   "metadata": {},
   "outputs": [
    {
     "data": {
      "text/html": [
       "<div>\n",
       "<style scoped>\n",
       "    .dataframe tbody tr th:only-of-type {\n",
       "        vertical-align: middle;\n",
       "    }\n",
       "\n",
       "    .dataframe tbody tr th {\n",
       "        vertical-align: top;\n",
       "    }\n",
       "\n",
       "    .dataframe thead th {\n",
       "        text-align: right;\n",
       "    }\n",
       "</style>\n",
       "<table border=\"1\" class=\"dataframe\">\n",
       "  <thead>\n",
       "    <tr style=\"text-align: right;\">\n",
       "      <th></th>\n",
       "      <th>rates</th>\n",
       "      <th>base</th>\n",
       "      <th>date</th>\n",
       "      <th>exchanged_to</th>\n",
       "      <th>day</th>\n",
       "    </tr>\n",
       "  </thead>\n",
       "  <tbody>\n",
       "    <tr>\n",
       "      <th>0</th>\n",
       "      <td>1.329584</td>\n",
       "      <td>USD</td>\n",
       "      <td>2019-12-02</td>\n",
       "      <td>CAD</td>\n",
       "      <td>Monday</td>\n",
       "    </tr>\n",
       "    <tr>\n",
       "      <th>1</th>\n",
       "      <td>1.332039</td>\n",
       "      <td>USD</td>\n",
       "      <td>2019-12-03</td>\n",
       "      <td>CAD</td>\n",
       "      <td>Tuesday</td>\n",
       "    </tr>\n",
       "    <tr>\n",
       "      <th>2</th>\n",
       "      <td>1.327227</td>\n",
       "      <td>USD</td>\n",
       "      <td>2019-12-04</td>\n",
       "      <td>CAD</td>\n",
       "      <td>Wednesday</td>\n",
       "    </tr>\n",
       "    <tr>\n",
       "      <th>3</th>\n",
       "      <td>1.316928</td>\n",
       "      <td>USD</td>\n",
       "      <td>2019-12-05</td>\n",
       "      <td>CAD</td>\n",
       "      <td>Thursday</td>\n",
       "    </tr>\n",
       "    <tr>\n",
       "      <th>4</th>\n",
       "      <td>1.317649</td>\n",
       "      <td>USD</td>\n",
       "      <td>2019-12-06</td>\n",
       "      <td>CAD</td>\n",
       "      <td>Friday</td>\n",
       "    </tr>\n",
       "  </tbody>\n",
       "</table>\n",
       "</div>"
      ],
      "text/plain": [
       "      rates base        date exchanged_to        day\n",
       "0  1.329584  USD  2019-12-02          CAD     Monday\n",
       "1  1.332039  USD  2019-12-03          CAD    Tuesday\n",
       "2  1.327227  USD  2019-12-04          CAD  Wednesday\n",
       "3  1.316928  USD  2019-12-05          CAD   Thursday\n",
       "4  1.317649  USD  2019-12-06          CAD     Friday"
      ]
     },
     "execution_count": 254,
     "metadata": {},
     "output_type": "execute_result"
    }
   ],
   "source": [
    "df_exch.head()"
   ]
  },
  {
   "cell_type": "code",
   "execution_count": 255,
   "metadata": {},
   "outputs": [],
   "source": [
    "df_exch.drop_duplicates (subset=None, keep= 'first', inplace=True)"
   ]
  },
  {
   "cell_type": "code",
   "execution_count": 256,
   "metadata": {},
   "outputs": [
    {
     "data": {
      "text/plain": [
       "(85, 5)"
      ]
     },
     "execution_count": 256,
     "metadata": {},
     "output_type": "execute_result"
    }
   ],
   "source": [
    "df_exch.shape"
   ]
  },
  {
   "cell_type": "code",
   "execution_count": 257,
   "metadata": {},
   "outputs": [],
   "source": [
    "df_exch.rename(columns={'date' : 'exchange_date'}, inplace=True)"
   ]
  },
  {
   "cell_type": "code",
   "execution_count": 258,
   "metadata": {},
   "outputs": [
    {
     "data": {
      "text/plain": [
       "Index(['rates', 'base', 'exchange_date', 'exchanged_to', 'day'], dtype='object')"
      ]
     },
     "execution_count": 258,
     "metadata": {},
     "output_type": "execute_result"
    }
   ],
   "source": [
    "df_exch.columns"
   ]
  },
  {
   "cell_type": "code",
   "execution_count": 244,
   "metadata": {},
   "outputs": [],
   "source": [
    "# Create Exchange Rate table  in SQL\n",
    "cursor = sql_con.cursor()\n",
    "sql_con.execute('CREATE TABLE exchange_rates (exch_id int IDENTITY(1,1) PRIMARY KEY, rates float, base varchar(10), exchange_date date unique not null, exchanged_to varchar(10), day varchar(15) not null)')\n",
    "sql_con.commit()\n",
    "cursor.close()"
   ]
  },
  {
   "cell_type": "code",
   "execution_count": 259,
   "metadata": {},
   "outputs": [],
   "source": [
    "# Insert data into exchange rates table in sql\n",
    "cursor = sql_con.cursor()\n",
    "\n",
    "# loop through to insert each row.\n",
    "for rates, base, exchange_date,exchanged_to,day in zip(df_exch['rates'],df_exch['base'],df_exch['exchange_date'],df_exch['exchanged_to'],df_exch['day']):\n",
    "    \n",
    "    # define an insert query with place holders for the values.\n",
    "    insert_query = '''INSERT INTO exchange_rates \n",
    "                      VALUES (?,?,?,?,?);'''\n",
    "    \n",
    "    # define the values\n",
    "    values = (rates, base, exchange_date,exchanged_to,day)\n",
    "    #print(insert_query, values)\n",
    "    \n",
    "    # insert the data into the database\n",
    "    cursor.execute(insert_query, values)\n",
    "\n",
    "# Close the cursor\n",
    "cursor.close();"
   ]
  },
  {
   "cell_type": "code",
   "execution_count": 263,
   "metadata": {},
   "outputs": [
    {
     "name": "stdout",
     "output_type": "stream",
     "text": [
      "(85, )\n",
      "(85, 5)\n"
     ]
    }
   ],
   "source": [
    "# grab all the rows from the table\n",
    "cursor = sql_con.cursor()\n",
    "cursor.execute('SELECT Count(1) FROM exchange_rates')\n",
    "for row in cursor:\n",
    "    print(row)\n",
    "\n",
    "# Records in orders dataframe\n",
    "print(df_exch.shape)\n",
    "# close the cursor and connection  \n",
    "cursor.close()"
   ]
  },
  {
   "cell_type": "code",
   "execution_count": 260,
   "metadata": {},
   "outputs": [],
   "source": [
    "#Close the connection\n",
    "sql_con.close()"
   ]
  },
  {
   "cell_type": "code",
   "execution_count": null,
   "metadata": {},
   "outputs": [],
   "source": []
  }
 ],
 "metadata": {
  "kernelspec": {
   "display_name": "Python 3",
   "language": "python",
   "name": "python3"
  },
  "language_info": {
   "codemirror_mode": {
    "name": "ipython",
    "version": 3
   },
   "file_extension": ".py",
   "mimetype": "text/x-python",
   "name": "python",
   "nbconvert_exporter": "python",
   "pygments_lexer": "ipython3",
   "version": "3.7.6"
  }
 },
 "nbformat": 4,
 "nbformat_minor": 4
}
