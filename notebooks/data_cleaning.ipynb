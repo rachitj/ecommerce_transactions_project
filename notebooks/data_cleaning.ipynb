{
 "cells": [
  {
   "cell_type": "markdown",
   "metadata": {},
   "source": [
    "# Import libraries"
   ]
  },
  {
   "cell_type": "code",
   "execution_count": 22,
   "metadata": {},
   "outputs": [],
   "source": [
    "import pandas as pd\n",
    "import seaborn as sns"
   ]
  },
  {
   "cell_type": "code",
   "execution_count": 23,
   "metadata": {},
   "outputs": [],
   "source": [
    "df_orders= pd.read_csv(\"orders.csv\")\n",
    "df_cust = pd.read_csv(\"customers.csv\")\n",
    "df_line_items = pd.read_csv(\"line_items.csv\")\n",
    "df_exch = pd.read_csv(\"exchange_rates.csv\")"
   ]
  },
  {
   "cell_type": "markdown",
   "metadata": {},
   "source": [
    "### Check for nulls"
   ]
  },
  {
   "cell_type": "code",
   "execution_count": 24,
   "metadata": {},
   "outputs": [
    {
     "name": "stdout",
     "output_type": "stream",
     "text": [
      "Shape of df_orders:  (37, 7)\n",
      "Shape of df_cust:  (20, 3)\n",
      "Shape of df_line_items:  (37, 5)\n",
      "Shape of df_exch:  (85, 5)\n"
     ]
    }
   ],
   "source": [
    "print(\"Shape of df_orders: \", df_orders.shape)\n",
    "print(\"Shape of df_cust: \", df_cust.shape)\n",
    "print(\"Shape of df_line_items: \", df_line_items.shape)\n",
    "print(\"Shape of df_exch: \", df_exch.shape)"
   ]
  },
  {
   "cell_type": "code",
   "execution_count": 25,
   "metadata": {},
   "outputs": [
    {
     "data": {
      "text/plain": [
       "<matplotlib.axes._subplots.AxesSubplot at 0xb538bb0>"
      ]
     },
     "execution_count": 25,
     "metadata": {},
     "output_type": "execute_result"
    },
    {
     "data": {
      "image/png": "[encoded data removed]",
      "text/plain": [
       "<Figure size 432x288 with 1 Axes>"
      ]
     },
     "metadata": {
      "needs_background": "light"
     },
     "output_type": "display_data"
    }
   ],
   "source": [
    "# Visualizing nulls using heatmap\n",
    "sns.heatmap(df_orders.isnull(),yticklabels=False,cbar=False,cmap='viridis')"
   ]
  },
  {
   "cell_type": "code",
   "execution_count": 26,
   "metadata": {},
   "outputs": [
    {
     "data": {
      "text/plain": [
       "<matplotlib.axes._subplots.AxesSubplot at 0x64537b0>"
      ]
     },
     "execution_count": 26,
     "metadata": {},
     "output_type": "execute_result"
    },
    {
     "data": {
      "image/png": "[encoded data removed]",
      "text/plain": [
       "<Figure size 432x288 with 1 Axes>"
      ]
     },
     "metadata": {
      "needs_background": "light"
     },
     "output_type": "display_data"
    }
   ],
   "source": [
    "sns.heatmap(df_cust.isnull(),yticklabels=False,cbar=False,cmap='viridis')"
   ]
  },
  {
   "cell_type": "code",
   "execution_count": 27,
   "metadata": {},
   "outputs": [
    {
     "data": {
      "text/plain": [
       "<matplotlib.axes._subplots.AxesSubplot at 0x647c550>"
      ]
     },
     "execution_count": 27,
     "metadata": {},
     "output_type": "execute_result"
    },
    {
     "data": {
      "image/png": "[encoded data removed]",
      "text/plain": [
       "<Figure size 432x288 with 1 Axes>"
      ]
     },
     "metadata": {
      "needs_background": "light"
     },
     "output_type": "display_data"
    }
   ],
   "source": [
    "sns.heatmap(df_line_items.isnull(),yticklabels=False,cbar=False,cmap='viridis')"
   ]
  },
  {
   "cell_type": "code",
   "execution_count": 28,
   "metadata": {},
   "outputs": [
    {
     "data": {
      "text/plain": [
       "<matplotlib.axes._subplots.AxesSubplot at 0x64a58b0>"
      ]
     },
     "execution_count": 28,
     "metadata": {},
     "output_type": "execute_result"
    },
    {
     "data": {
      "image/png": "[encoded data removed]",
      "text/plain": [
       "<Figure size 432x288 with 1 Axes>"
      ]
     },
     "metadata": {
      "needs_background": "light"
     },
     "output_type": "display_data"
    }
   ],
   "source": [
    "sns.heatmap(df_exch.isnull(),yticklabels=False,cbar=False,cmap='viridis')"
   ]
  },
  {
   "cell_type": "markdown",
   "metadata": {},
   "source": [
    "As no nulls are presen in our datasets, we need not do any null value treatment"
   ]
  },
  {
   "cell_type": "markdown",
   "metadata": {},
   "source": [
    "## Exploring  Data Analysis\n",
    "\n",
    "After checking for nulls, we would like to know what our datsets look like, what are the ranges, datatypes and unique values. WE will also try to determine if any feature engineering needs to be done."
   ]
  },
  {
   "cell_type": "markdown",
   "metadata": {},
   "source": [
    "### Exploring Customers Dataset"
   ]
  },
  {
   "cell_type": "code",
   "execution_count": 29,
   "metadata": {},
   "outputs": [],
   "source": [
    "def rstr(df, pred=None): \n",
    "    obs = df.shape[0]\n",
    "    types = df.dtypes\n",
    "    counts = df.apply(lambda x: x.count())\n",
    "    uniques = df.apply(lambda x: [x.unique()])\n",
    "    nulls = df.apply(lambda x: x.isnull().sum())\n",
    "    distincts = df.apply(lambda x: x.unique().shape[0])\n",
    "    missing_ration = (df.isnull().sum()/ obs) * 100\n",
    "    skewness = df.skew()\n",
    "    kurtosis = df.kurt() \n",
    "    print('Data shape:', df.shape)\n",
    "    \n",
    "    if pred is None:\n",
    "        cols = ['types', 'counts', 'distincts', 'nulls', 'missing ration', 'uniques', 'skewness', 'kurtosis']\n",
    "        str = pd.concat([types, counts, distincts, nulls, missing_ration, uniques, skewness, kurtosis], axis = 1)\n",
    "\n",
    "    else:\n",
    "        corr = df.corr()[pred]\n",
    "        str = pd.concat([types, counts, distincts, nulls, missing_ration, uniques, skewness, kurtosis, corr], axis = 1, sort=False)\n",
    "        corr_col = 'corr '  + pred\n",
    "        cols = ['types', 'counts', 'distincts', 'nulls', 'missing_ration', 'uniques', 'skewness', 'kurtosis', corr_col ]\n",
    "    \n",
    "    str.columns = cols\n",
    "    dtypes = str.types.value_counts()\n",
    "    print('___________________________\\nData types:\\n',str.types.value_counts())\n",
    "    print('___________________________')\n",
    "    return str\n"
   ]
  },
  {
   "cell_type": "code",
   "execution_count": 30,
   "metadata": {},
   "outputs": [
    {
     "name": "stdout",
     "output_type": "stream",
     "text": [
      "Data shape: (20, 3)\n",
      "___________________________\n",
      "Data types:\n",
      " object    2\n",
      "int64     1\n",
      "Name: types, dtype: int64\n",
      "___________________________\n"
     ]
    },
    {
     "data": {
      "text/html": [
       "<div>\n",
       "<style scoped>\n",
       "    .dataframe tbody tr th:only-of-type {\n",
       "        vertical-align: middle;\n",
       "    }\n",
       "\n",
       "    .dataframe tbody tr th {\n",
       "        vertical-align: top;\n",
       "    }\n",
       "\n",
       "    .dataframe thead th {\n",
       "        text-align: right;\n",
       "    }\n",
       "</style>\n",
       "<table border=\"1\" class=\"dataframe\">\n",
       "  <thead>\n",
       "    <tr style=\"text-align: right;\">\n",
       "      <th></th>\n",
       "      <th>types</th>\n",
       "      <th>counts</th>\n",
       "      <th>distincts</th>\n",
       "      <th>nulls</th>\n",
       "      <th>missing ration</th>\n",
       "      <th>uniques</th>\n",
       "      <th>skewness</th>\n",
       "      <th>kurtosis</th>\n",
       "    </tr>\n",
       "  </thead>\n",
       "  <tbody>\n",
       "    <tr>\n",
       "      <th>cust_id</th>\n",
       "      <td>int64</td>\n",
       "      <td>20</td>\n",
       "      <td>4</td>\n",
       "      <td>0</td>\n",
       "      <td>0.0</td>\n",
       "      <td>[[47178, 94720, 59933, 23955]]</td>\n",
       "      <td>0.264299</td>\n",
       "      <td>-1.060084</td>\n",
       "    </tr>\n",
       "    <tr>\n",
       "      <th>cust_name</th>\n",
       "      <td>object</td>\n",
       "      <td>20</td>\n",
       "      <td>4</td>\n",
       "      <td>0</td>\n",
       "      <td>0.0</td>\n",
       "      <td>[[William Doe, Emile Tumson, Ethan Jones, Dani...</td>\n",
       "      <td>NaN</td>\n",
       "      <td>NaN</td>\n",
       "    </tr>\n",
       "    <tr>\n",
       "      <th>cust_email</th>\n",
       "      <td>object</td>\n",
       "      <td>20</td>\n",
       "      <td>4</td>\n",
       "      <td>0</td>\n",
       "      <td>0.0</td>\n",
       "      <td>[[william.doe@gmail.com, emile.tumson@gmail.co...</td>\n",
       "      <td>NaN</td>\n",
       "      <td>NaN</td>\n",
       "    </tr>\n",
       "  </tbody>\n",
       "</table>\n",
       "</div>"
      ],
      "text/plain": [
       "             types  counts  distincts  nulls  missing ration  \\\n",
       "cust_id      int64      20          4      0             0.0   \n",
       "cust_name   object      20          4      0             0.0   \n",
       "cust_email  object      20          4      0             0.0   \n",
       "\n",
       "                                                      uniques  skewness  \\\n",
       "cust_id                        [[47178, 94720, 59933, 23955]]  0.264299   \n",
       "cust_name   [[William Doe, Emile Tumson, Ethan Jones, Dani...       NaN   \n",
       "cust_email  [[william.doe@gmail.com, emile.tumson@gmail.co...       NaN   \n",
       "\n",
       "            kurtosis  \n",
       "cust_id    -1.060084  \n",
       "cust_name        NaN  \n",
       "cust_email       NaN  "
      ]
     },
     "metadata": {},
     "output_type": "display_data"
    }
   ],
   "source": [
    "details_cust = rstr(df_cust)\n",
    "display(details_cust)"
   ]
  },
  {
   "cell_type": "markdown",
   "metadata": {},
   "source": [
    "### Exploring Line Items Dataset"
   ]
  },
  {
   "cell_type": "code",
   "execution_count": 31,
   "metadata": {},
   "outputs": [
    {
     "name": "stdout",
     "output_type": "stream",
     "text": [
      "Data shape: (37, 5)\n",
      "___________________________\n",
      "Data types:\n",
      " object     2\n",
      "int64      2\n",
      "float64    1\n",
      "Name: types, dtype: int64\n",
      "___________________________\n"
     ]
    },
    {
     "data": {
      "text/html": [
       "<div>\n",
       "<style scoped>\n",
       "    .dataframe tbody tr th:only-of-type {\n",
       "        vertical-align: middle;\n",
       "    }\n",
       "\n",
       "    .dataframe tbody tr th {\n",
       "        vertical-align: top;\n",
       "    }\n",
       "\n",
       "    .dataframe thead th {\n",
       "        text-align: right;\n",
       "    }\n",
       "</style>\n",
       "<table border=\"1\" class=\"dataframe\">\n",
       "  <thead>\n",
       "    <tr style=\"text-align: right;\">\n",
       "      <th></th>\n",
       "      <th>types</th>\n",
       "      <th>counts</th>\n",
       "      <th>distincts</th>\n",
       "      <th>nulls</th>\n",
       "      <th>missing ration</th>\n",
       "      <th>uniques</th>\n",
       "      <th>skewness</th>\n",
       "      <th>kurtosis</th>\n",
       "    </tr>\n",
       "  </thead>\n",
       "  <tbody>\n",
       "    <tr>\n",
       "      <th>line_item_id</th>\n",
       "      <td>int64</td>\n",
       "      <td>37</td>\n",
       "      <td>6</td>\n",
       "      <td>0</td>\n",
       "      <td>0.0</td>\n",
       "      <td>[[610448, 997208, 759658, 317808, 771854, 6046...</td>\n",
       "      <td>-0.328020</td>\n",
       "      <td>-0.957215</td>\n",
       "    </tr>\n",
       "    <tr>\n",
       "      <th>product_id</th>\n",
       "      <td>int64</td>\n",
       "      <td>37</td>\n",
       "      <td>6</td>\n",
       "      <td>0</td>\n",
       "      <td>0.0</td>\n",
       "      <td>[[632910392, 278266679, 573794972, 477365777, ...</td>\n",
       "      <td>-0.419670</td>\n",
       "      <td>-0.981095</td>\n",
       "    </tr>\n",
       "    <tr>\n",
       "      <th>product_sku</th>\n",
       "      <td>object</td>\n",
       "      <td>37</td>\n",
       "      <td>6</td>\n",
       "      <td>0</td>\n",
       "      <td>0.0</td>\n",
       "      <td>[[PPLEPUNCH20-05, GPSTASH-01, SAGENSOUR-01, GO...</td>\n",
       "      <td>NaN</td>\n",
       "      <td>NaN</td>\n",
       "    </tr>\n",
       "    <tr>\n",
       "      <th>product_name</th>\n",
       "      <td>object</td>\n",
       "      <td>37</td>\n",
       "      <td>6</td>\n",
       "      <td>0</td>\n",
       "      <td>0.0</td>\n",
       "      <td>[[Purple Punch 2.0 Dried Flower, Grandpa's Sta...</td>\n",
       "      <td>NaN</td>\n",
       "      <td>NaN</td>\n",
       "    </tr>\n",
       "    <tr>\n",
       "      <th>product_price</th>\n",
       "      <td>float64</td>\n",
       "      <td>37</td>\n",
       "      <td>5</td>\n",
       "      <td>0</td>\n",
       "      <td>0.0</td>\n",
       "      <td>[[29.4, 49.99, 36.99, 5.99, 259.99]]</td>\n",
       "      <td>2.364836</td>\n",
       "      <td>4.408665</td>\n",
       "    </tr>\n",
       "  </tbody>\n",
       "</table>\n",
       "</div>"
      ],
      "text/plain": [
       "                 types  counts  distincts  nulls  missing ration  \\\n",
       "line_item_id     int64      37          6      0             0.0   \n",
       "product_id       int64      37          6      0             0.0   \n",
       "product_sku     object      37          6      0             0.0   \n",
       "product_name    object      37          6      0             0.0   \n",
       "product_price  float64      37          5      0             0.0   \n",
       "\n",
       "                                                         uniques  skewness  \\\n",
       "line_item_id   [[610448, 997208, 759658, 317808, 771854, 6046... -0.328020   \n",
       "product_id     [[632910392, 278266679, 573794972, 477365777, ... -0.419670   \n",
       "product_sku    [[PPLEPUNCH20-05, GPSTASH-01, SAGENSOUR-01, GO...       NaN   \n",
       "product_name   [[Purple Punch 2.0 Dried Flower, Grandpa's Sta...       NaN   \n",
       "product_price               [[29.4, 49.99, 36.99, 5.99, 259.99]]  2.364836   \n",
       "\n",
       "               kurtosis  \n",
       "line_item_id  -0.957215  \n",
       "product_id    -0.981095  \n",
       "product_sku         NaN  \n",
       "product_name        NaN  \n",
       "product_price  4.408665  "
      ]
     },
     "metadata": {},
     "output_type": "display_data"
    }
   ],
   "source": [
    "details_line_items = rstr(df_line_items)\n",
    "display(details_line_items)"
   ]
  },
  {
   "cell_type": "code",
   "execution_count": 32,
   "metadata": {},
   "outputs": [
    {
     "data": {
      "text/plain": [
       "Grandpa's Stash Dried Flower     9\n",
       "Glueberry OG Pre-Rolls           8\n",
       "Sage N Sour Dried Flower         7\n",
       "Hybrid Blend THC Tincture        5\n",
       "Purple Punch 2.0 Dried Flower    4\n",
       "Pax 3 Vaporizer                  4\n",
       "Name: product_name, dtype: int64"
      ]
     },
     "execution_count": 32,
     "metadata": {},
     "output_type": "execute_result"
    }
   ],
   "source": [
    "df_line_items['product_name'].value_counts()"
   ]
  },
  {
   "cell_type": "code",
   "execution_count": 33,
   "metadata": {},
   "outputs": [
    {
     "data": {
      "text/html": [
       "<div>\n",
       "<style scoped>\n",
       "    .dataframe tbody tr th:only-of-type {\n",
       "        vertical-align: middle;\n",
       "    }\n",
       "\n",
       "    .dataframe tbody tr th {\n",
       "        vertical-align: top;\n",
       "    }\n",
       "\n",
       "    .dataframe thead th {\n",
       "        text-align: right;\n",
       "    }\n",
       "</style>\n",
       "<table border=\"1\" class=\"dataframe\">\n",
       "  <thead>\n",
       "    <tr style=\"text-align: right;\">\n",
       "      <th></th>\n",
       "      <th>line_item_id</th>\n",
       "      <th>product_id</th>\n",
       "      <th>product_sku</th>\n",
       "      <th>product_name</th>\n",
       "      <th>product_price</th>\n",
       "    </tr>\n",
       "  </thead>\n",
       "  <tbody>\n",
       "    <tr>\n",
       "      <th>0</th>\n",
       "      <td>610448</td>\n",
       "      <td>632910392</td>\n",
       "      <td>PPLEPUNCH20-05</td>\n",
       "      <td>Purple Punch 2.0 Dried Flower</td>\n",
       "      <td>29.40</td>\n",
       "    </tr>\n",
       "    <tr>\n",
       "      <th>1</th>\n",
       "      <td>997208</td>\n",
       "      <td>278266679</td>\n",
       "      <td>GPSTASH-01</td>\n",
       "      <td>Grandpa's Stash Dried Flower</td>\n",
       "      <td>49.99</td>\n",
       "    </tr>\n",
       "    <tr>\n",
       "      <th>2</th>\n",
       "      <td>997208</td>\n",
       "      <td>278266679</td>\n",
       "      <td>GPSTASH-01</td>\n",
       "      <td>Grandpa's Stash Dried Flower</td>\n",
       "      <td>49.99</td>\n",
       "    </tr>\n",
       "    <tr>\n",
       "      <th>3</th>\n",
       "      <td>759658</td>\n",
       "      <td>573794972</td>\n",
       "      <td>SAGENSOUR-01</td>\n",
       "      <td>Sage N Sour Dried Flower</td>\n",
       "      <td>36.99</td>\n",
       "    </tr>\n",
       "    <tr>\n",
       "      <th>4</th>\n",
       "      <td>759658</td>\n",
       "      <td>573794972</td>\n",
       "      <td>SAGENSOUR-01</td>\n",
       "      <td>Sage N Sour Dried Flower</td>\n",
       "      <td>36.99</td>\n",
       "    </tr>\n",
       "    <tr>\n",
       "      <th>5</th>\n",
       "      <td>317808</td>\n",
       "      <td>477365777</td>\n",
       "      <td>GOGPR-07</td>\n",
       "      <td>Glueberry OG Pre-Rolls</td>\n",
       "      <td>5.99</td>\n",
       "    </tr>\n",
       "    <tr>\n",
       "      <th>6</th>\n",
       "      <td>771854</td>\n",
       "      <td>694165761</td>\n",
       "      <td>HYBTINC-03</td>\n",
       "      <td>Hybrid Blend THC Tincture</td>\n",
       "      <td>49.99</td>\n",
       "    </tr>\n",
       "    <tr>\n",
       "      <th>7</th>\n",
       "      <td>604665</td>\n",
       "      <td>510650809</td>\n",
       "      <td>PAX-3</td>\n",
       "      <td>Pax 3 Vaporizer</td>\n",
       "      <td>259.99</td>\n",
       "    </tr>\n",
       "    <tr>\n",
       "      <th>8</th>\n",
       "      <td>997208</td>\n",
       "      <td>278266679</td>\n",
       "      <td>GPSTASH-01</td>\n",
       "      <td>Grandpa's Stash Dried Flower</td>\n",
       "      <td>49.99</td>\n",
       "    </tr>\n",
       "    <tr>\n",
       "      <th>9</th>\n",
       "      <td>997208</td>\n",
       "      <td>278266679</td>\n",
       "      <td>GPSTASH-01</td>\n",
       "      <td>Grandpa's Stash Dried Flower</td>\n",
       "      <td>49.99</td>\n",
       "    </tr>\n",
       "  </tbody>\n",
       "</table>\n",
       "</div>"
      ],
      "text/plain": [
       "   line_item_id  product_id     product_sku                   product_name  \\\n",
       "0        610448   632910392  PPLEPUNCH20-05  Purple Punch 2.0 Dried Flower   \n",
       "1        997208   278266679      GPSTASH-01   Grandpa's Stash Dried Flower   \n",
       "2        997208   278266679      GPSTASH-01   Grandpa's Stash Dried Flower   \n",
       "3        759658   573794972    SAGENSOUR-01       Sage N Sour Dried Flower   \n",
       "4        759658   573794972    SAGENSOUR-01       Sage N Sour Dried Flower   \n",
       "5        317808   477365777        GOGPR-07         Glueberry OG Pre-Rolls   \n",
       "6        771854   694165761      HYBTINC-03      Hybrid Blend THC Tincture   \n",
       "7        604665   510650809           PAX-3                Pax 3 Vaporizer   \n",
       "8        997208   278266679      GPSTASH-01   Grandpa's Stash Dried Flower   \n",
       "9        997208   278266679      GPSTASH-01   Grandpa's Stash Dried Flower   \n",
       "\n",
       "   product_price  \n",
       "0          29.40  \n",
       "1          49.99  \n",
       "2          49.99  \n",
       "3          36.99  \n",
       "4          36.99  \n",
       "5           5.99  \n",
       "6          49.99  \n",
       "7         259.99  \n",
       "8          49.99  \n",
       "9          49.99  "
      ]
     },
     "execution_count": 33,
     "metadata": {},
     "output_type": "execute_result"
    }
   ],
   "source": [
    "df_line_items.head(10)"
   ]
  },
  {
   "cell_type": "markdown",
   "metadata": {},
   "source": [
    "### Exploring Orders Dataset"
   ]
  },
  {
   "cell_type": "code",
   "execution_count": 34,
   "metadata": {},
   "outputs": [
    {
     "name": "stdout",
     "output_type": "stream",
     "text": [
      "Data shape: (37, 7)\n",
      "___________________________\n",
      "Data types:\n",
      " object     3\n",
      "int64      3\n",
      "float64    1\n",
      "Name: types, dtype: int64\n",
      "___________________________\n"
     ]
    },
    {
     "data": {
      "text/html": [
       "<div>\n",
       "<style scoped>\n",
       "    .dataframe tbody tr th:only-of-type {\n",
       "        vertical-align: middle;\n",
       "    }\n",
       "\n",
       "    .dataframe tbody tr th {\n",
       "        vertical-align: top;\n",
       "    }\n",
       "\n",
       "    .dataframe thead th {\n",
       "        text-align: right;\n",
       "    }\n",
       "</style>\n",
       "<table border=\"1\" class=\"dataframe\">\n",
       "  <thead>\n",
       "    <tr style=\"text-align: right;\">\n",
       "      <th></th>\n",
       "      <th>types</th>\n",
       "      <th>counts</th>\n",
       "      <th>distincts</th>\n",
       "      <th>nulls</th>\n",
       "      <th>missing ration</th>\n",
       "      <th>uniques</th>\n",
       "      <th>skewness</th>\n",
       "      <th>kurtosis</th>\n",
       "    </tr>\n",
       "  </thead>\n",
       "  <tbody>\n",
       "    <tr>\n",
       "      <th>id</th>\n",
       "      <td>int64</td>\n",
       "      <td>37</td>\n",
       "      <td>20</td>\n",
       "      <td>0</td>\n",
       "      <td>0.0</td>\n",
       "      <td>[[8369263756632563, 7262170348080494, 77220555...</td>\n",
       "      <td>-0.029627</td>\n",
       "      <td>-1.124772</td>\n",
       "    </tr>\n",
       "    <tr>\n",
       "      <th>cust_id</th>\n",
       "      <td>int64</td>\n",
       "      <td>37</td>\n",
       "      <td>4</td>\n",
       "      <td>0</td>\n",
       "      <td>0.0</td>\n",
       "      <td>[[47178, 94720, 59933, 23955]]</td>\n",
       "      <td>0.282473</td>\n",
       "      <td>-0.860039</td>\n",
       "    </tr>\n",
       "    <tr>\n",
       "      <th>total_price</th>\n",
       "      <td>float64</td>\n",
       "      <td>37</td>\n",
       "      <td>11</td>\n",
       "      <td>0</td>\n",
       "      <td>0.0</td>\n",
       "      <td>[[79.39, 86.98, 36.99, 55.98, 309.98, 315.97, ...</td>\n",
       "      <td>1.134941</td>\n",
       "      <td>-0.296662</td>\n",
       "    </tr>\n",
       "    <tr>\n",
       "      <th>created_at</th>\n",
       "      <td>object</td>\n",
       "      <td>37</td>\n",
       "      <td>20</td>\n",
       "      <td>0</td>\n",
       "      <td>0.0</td>\n",
       "      <td>[[2020-03-07 14:31:11, 2020-03-01 09:16:30, 20...</td>\n",
       "      <td>NaN</td>\n",
       "      <td>NaN</td>\n",
       "    </tr>\n",
       "    <tr>\n",
       "      <th>line_item_id</th>\n",
       "      <td>int64</td>\n",
       "      <td>37</td>\n",
       "      <td>6</td>\n",
       "      <td>0</td>\n",
       "      <td>0.0</td>\n",
       "      <td>[[610448, 997208, 759658, 317808, 771854, 6046...</td>\n",
       "      <td>-0.328020</td>\n",
       "      <td>-0.957215</td>\n",
       "    </tr>\n",
       "    <tr>\n",
       "      <th>orders_day</th>\n",
       "      <td>object</td>\n",
       "      <td>37</td>\n",
       "      <td>6</td>\n",
       "      <td>0</td>\n",
       "      <td>0.0</td>\n",
       "      <td>[[Saturday, Sunday, Wednesday, Tuesday, Thursd...</td>\n",
       "      <td>NaN</td>\n",
       "      <td>NaN</td>\n",
       "    </tr>\n",
       "    <tr>\n",
       "      <th>orders_date</th>\n",
       "      <td>object</td>\n",
       "      <td>37</td>\n",
       "      <td>17</td>\n",
       "      <td>0</td>\n",
       "      <td>0.0</td>\n",
       "      <td>[[2020-03-07, 2020-03-01, 2020-01-01, 2020-03-...</td>\n",
       "      <td>NaN</td>\n",
       "      <td>NaN</td>\n",
       "    </tr>\n",
       "  </tbody>\n",
       "</table>\n",
       "</div>"
      ],
      "text/plain": [
       "                types  counts  distincts  nulls  missing ration  \\\n",
       "id              int64      37         20      0             0.0   \n",
       "cust_id         int64      37          4      0             0.0   \n",
       "total_price   float64      37         11      0             0.0   \n",
       "created_at     object      37         20      0             0.0   \n",
       "line_item_id    int64      37          6      0             0.0   \n",
       "orders_day     object      37          6      0             0.0   \n",
       "orders_date    object      37         17      0             0.0   \n",
       "\n",
       "                                                        uniques  skewness  \\\n",
       "id            [[8369263756632563, 7262170348080494, 77220555... -0.029627   \n",
       "cust_id                          [[47178, 94720, 59933, 23955]]  0.282473   \n",
       "total_price   [[79.39, 86.98, 36.99, 55.98, 309.98, 315.97, ...  1.134941   \n",
       "created_at    [[2020-03-07 14:31:11, 2020-03-01 09:16:30, 20...       NaN   \n",
       "line_item_id  [[610448, 997208, 759658, 317808, 771854, 6046... -0.328020   \n",
       "orders_day    [[Saturday, Sunday, Wednesday, Tuesday, Thursd...       NaN   \n",
       "orders_date   [[2020-03-07, 2020-03-01, 2020-01-01, 2020-03-...       NaN   \n",
       "\n",
       "              kurtosis  \n",
       "id           -1.124772  \n",
       "cust_id      -0.860039  \n",
       "total_price  -0.296662  \n",
       "created_at         NaN  \n",
       "line_item_id -0.957215  \n",
       "orders_day         NaN  \n",
       "orders_date        NaN  "
      ]
     },
     "metadata": {},
     "output_type": "display_data"
    }
   ],
   "source": [
    "details_orders = rstr(df_orders)\n",
    "display(details_orders)"
   ]
  },
  {
   "cell_type": "code",
   "execution_count": 35,
   "metadata": {},
   "outputs": [
    {
     "data": {
      "text/plain": [
       "Wednesday    12\n",
       "Sunday        9\n",
       "Thursday      5\n",
       "Saturday      5\n",
       "Tuesday       4\n",
       "Friday        2\n",
       "Name: orders_day, dtype: int64"
      ]
     },
     "execution_count": 35,
     "metadata": {},
     "output_type": "execute_result"
    }
   ],
   "source": [
    "df_orders['orders_day'].value_counts()"
   ]
  },
  {
   "cell_type": "markdown",
   "metadata": {},
   "source": [
    "The most number of orders were made on Wednesday and Sunday in that order. The least orders were made on Friday, which is interesting."
   ]
  },
  {
   "cell_type": "code",
   "execution_count": null,
   "metadata": {},
   "outputs": [],
   "source": []
  }
 ],
 "metadata": {
  "kernelspec": {
   "display_name": "Python 3",
   "language": "python",
   "name": "python3"
  },
  "language_info": {
   "codemirror_mode": {
    "name": "ipython",
    "version": 3
   },
   "file_extension": ".py",
   "mimetype": "text/x-python",
   "name": "python",
   "nbconvert_exporter": "python",
   "pygments_lexer": "ipython3",
   "version": "3.7.6"
  }
 },
 "nbformat": 4,
 "nbformat_minor": 4
}
